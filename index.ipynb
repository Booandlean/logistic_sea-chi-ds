{
 "cells": [
  {
   "cell_type": "markdown",
   "metadata": {},
   "source": [
    "# Logistic Regression"
   ]
  },
  {
   "cell_type": "markdown",
   "metadata": {
    "slideshow": {
     "slide_type": "slide"
    }
   },
   "source": [
    "## Learning goals\n",
    "\n",
    "1. Compare predicting a continuous outcome to predicting a class\n",
    "2. Compare linear to logistic regression as classification models\n",
    "3. Understand how the sigmoid function translates the linear equation to a probability\n",
    "4. Describe why logistic regression is a descriminative, parametric algorithm\n",
    "5. Learn how to interpret a trained logistic model's coefficients\n",
    "6. Explore the C (inverse regularization) paramater and hyperparameter tune\n",
    "7. Learn how to adjust the threshold of a logistic model\n",
    "8. Describe the assumptions of linear regression"
   ]
  },
  {
   "cell_type": "markdown",
   "metadata": {},
   "source": [
    "# Why logistic 1st of our classifiers?\n",
    "\n",
    "Logistic regression is a good model to usher us into the world of classification. It takes a concept we are familiar with, a linear equation, and translates it into a form fit for predicting a class.  \n",
    "\n",
    "It generally can't compete with the best supervised learning algorithms, but it is simple, fast, and interpretable.  \n",
    "\n",
    "As we will see in mod 4, it will also serve as a segue into our lessons on neural nets."
   ]
  },
  {
   "cell_type": "markdown",
   "metadata": {},
   "source": [
    "# 1. Compare predicting a continuous outcome to predicting a class\n",
    "\n",
    "Thus far, we have worked to predict continuous target variables using linear regression. \n",
    "\n",
    "  - Continous target variables:\n",
    "        - Sales price of a home\n",
    "        - MPG of a car\n",
    "        - Price of Google stock\n",
    "        - Number of rides per day on the El\n",
    "        - HS graduation rates\n",
    "        \n",
    "We will now transition into another category of prediction: classification. Instead of continous target variables, we will be predicting whether records from are data are labeled as a particular class.  Whereas the output for the linear regression model can be any number, the output of our classification algorithms can only be a value designated by a set of discrete outcomes.\n",
    "\n",
    "  - Categorical target variables:\n",
    "        - Whether an employee will stay at a company or leave (churn)\n",
    "        - Whether a tumor is cancerous or benign\n",
    "        - Whether a flower is a rose, a dandelion, a tulip, or a daffodil\n",
    "        - Whether a voter is Republican, Democrat, or Independent\n",
    "        \n",
    "What are some other categorical target variables can you think of?\n",
    "\n",
    "![discuss](https://media.giphy.com/media/l0MYIAUWRmVVzfHag/giphy.gif)\n",
    "\n"
   ]
  },
  {
   "cell_type": "markdown",
   "metadata": {},
   "source": [
    "### We are still dealing with **labeled data**.\n",
    "\n",
    "![labels](https://media.giphy.com/media/26Ff5evMweBsENWqk/giphy.gif)\n",
    "\n",
    "\n",
    "This is still supervised learning. \n",
    "\n",
    "But now, instead of the label being a continuous value, such as house price, the label is the category.  This can be either binary or multiclass.  But we still need the labels to train our models.\n",
    "\n"
   ]
  },
  {
   "cell_type": "code",
   "execution_count": 3,
   "metadata": {},
   "outputs": [
    {
     "name": "stdout",
     "output_type": "stream",
     "text": [
      "[0 0 0 0 0 0 0 0 0 0 0 0 0 0 0 0 0 0 0 0 0 0 0 0 0 0 0 0 0 0 0 0 0 0 0 0 0\n",
      " 0 0 0 0 0 0 0 0 0 0 0 0 0 1 1 1 1 1 1 1 1 1 1 1 1 1 1 1 1 1 1 1 1 1 1 1 1\n",
      " 1 1 1 1 1 1 1 1 1 1 1 1 1 1 1 1 1 1 1 1 1 1 1 1 1 1 2 2 2 2 2 2 2 2 2 2 2\n",
      " 2 2 2 2 2 2 2 2 2 2 2 2 2 2 2 2 2 2 2 2 2 2 2 2 2 2 2 2 2 2 2 2 2 2 2 2 2\n",
      " 2 2]\n",
      "['setosa' 'versicolor' 'virginica']\n"
     ]
    }
   ],
   "source": [
    "from sklearn.datasets import load_iris\n",
    "\n",
    "data = load_iris()\n",
    "# Here, in our familiar iris dataset, we see that the target variable is one of three classes labeled 0, 1, 2 \n",
    "# relating to setosa, versicolor, and virginica\n",
    "print(data.target)\n",
    "print(data.target_names)"
   ]
  },
  {
   "cell_type": "markdown",
   "metadata": {},
   "source": [
    "# 2. Compare linear to logistic regression as classification models\n"
   ]
  },
  {
   "cell_type": "markdown",
   "metadata": {},
   "source": [
    "The goal of logistic regression, and any classification problem, is to build a model which accurately separates the classes based on independent variables.  \n",
    "\n",
    "We are already familiar with how linear regression finds a best-fit \"line\".  It uses the MSE cost function to minimize the difference between true and predicted values.  \n",
    "\n",
    "A natural thought would be to use that \"line\" to descriminate between classes: Everything with an output greater than a certain point is classified as a 1, everything below is classified as a 0."
   ]
  },
  {
   "cell_type": "markdown",
   "metadata": {},
   "source": [
    "# Glass Data\n",
    "Take the glass data set from the UCI Machine Learning Dataset.  \n",
    "\n",
    "It is composed of a set of features describing the physical makeup of different glass types.  \n",
    "\n",
    "Glass types 1,2,3 represent window glass.\n",
    "Glass types 4,5,6 represent household glass.\n",
    "\n",
    "We will try to predict whether a record is window glass or household glass. "
   ]
  },
  {
   "cell_type": "code",
   "execution_count": 4,
   "metadata": {},
   "outputs": [
    {
     "data": {
      "text/html": [
       "<div>\n",
       "<style scoped>\n",
       "    .dataframe tbody tr th:only-of-type {\n",
       "        vertical-align: middle;\n",
       "    }\n",
       "\n",
       "    .dataframe tbody tr th {\n",
       "        vertical-align: top;\n",
       "    }\n",
       "\n",
       "    .dataframe thead th {\n",
       "        text-align: right;\n",
       "    }\n",
       "</style>\n",
       "<table border=\"1\" class=\"dataframe\">\n",
       "  <thead>\n",
       "    <tr style=\"text-align: right;\">\n",
       "      <th></th>\n",
       "      <th>ri</th>\n",
       "      <th>na</th>\n",
       "      <th>mg</th>\n",
       "      <th>al</th>\n",
       "      <th>si</th>\n",
       "      <th>k</th>\n",
       "      <th>ca</th>\n",
       "      <th>ba</th>\n",
       "      <th>fe</th>\n",
       "      <th>glass_type</th>\n",
       "      <th>household</th>\n",
       "    </tr>\n",
       "    <tr>\n",
       "      <th>id</th>\n",
       "      <th></th>\n",
       "      <th></th>\n",
       "      <th></th>\n",
       "      <th></th>\n",
       "      <th></th>\n",
       "      <th></th>\n",
       "      <th></th>\n",
       "      <th></th>\n",
       "      <th></th>\n",
       "      <th></th>\n",
       "      <th></th>\n",
       "    </tr>\n",
       "  </thead>\n",
       "  <tbody>\n",
       "    <tr>\n",
       "      <th>22</th>\n",
       "      <td>1.51966</td>\n",
       "      <td>14.77</td>\n",
       "      <td>3.75</td>\n",
       "      <td>0.29</td>\n",
       "      <td>72.02</td>\n",
       "      <td>0.03</td>\n",
       "      <td>9.00</td>\n",
       "      <td>0.0</td>\n",
       "      <td>0.00</td>\n",
       "      <td>1</td>\n",
       "      <td>0</td>\n",
       "    </tr>\n",
       "    <tr>\n",
       "      <th>185</th>\n",
       "      <td>1.51115</td>\n",
       "      <td>17.38</td>\n",
       "      <td>0.00</td>\n",
       "      <td>0.34</td>\n",
       "      <td>75.41</td>\n",
       "      <td>0.00</td>\n",
       "      <td>6.65</td>\n",
       "      <td>0.0</td>\n",
       "      <td>0.00</td>\n",
       "      <td>6</td>\n",
       "      <td>1</td>\n",
       "    </tr>\n",
       "    <tr>\n",
       "      <th>40</th>\n",
       "      <td>1.52213</td>\n",
       "      <td>14.21</td>\n",
       "      <td>3.82</td>\n",
       "      <td>0.47</td>\n",
       "      <td>71.77</td>\n",
       "      <td>0.11</td>\n",
       "      <td>9.57</td>\n",
       "      <td>0.0</td>\n",
       "      <td>0.00</td>\n",
       "      <td>1</td>\n",
       "      <td>0</td>\n",
       "    </tr>\n",
       "    <tr>\n",
       "      <th>39</th>\n",
       "      <td>1.52213</td>\n",
       "      <td>14.21</td>\n",
       "      <td>3.82</td>\n",
       "      <td>0.47</td>\n",
       "      <td>71.77</td>\n",
       "      <td>0.11</td>\n",
       "      <td>9.57</td>\n",
       "      <td>0.0</td>\n",
       "      <td>0.00</td>\n",
       "      <td>1</td>\n",
       "      <td>0</td>\n",
       "    </tr>\n",
       "    <tr>\n",
       "      <th>51</th>\n",
       "      <td>1.52320</td>\n",
       "      <td>13.72</td>\n",
       "      <td>3.72</td>\n",
       "      <td>0.51</td>\n",
       "      <td>71.75</td>\n",
       "      <td>0.09</td>\n",
       "      <td>10.06</td>\n",
       "      <td>0.0</td>\n",
       "      <td>0.16</td>\n",
       "      <td>1</td>\n",
       "      <td>0</td>\n",
       "    </tr>\n",
       "  </tbody>\n",
       "</table>\n",
       "</div>"
      ],
      "text/plain": [
       "          ri     na    mg    al     si     k     ca   ba    fe  glass_type  \\\n",
       "id                                                                           \n",
       "22   1.51966  14.77  3.75  0.29  72.02  0.03   9.00  0.0  0.00           1   \n",
       "185  1.51115  17.38  0.00  0.34  75.41  0.00   6.65  0.0  0.00           6   \n",
       "40   1.52213  14.21  3.82  0.47  71.77  0.11   9.57  0.0  0.00           1   \n",
       "39   1.52213  14.21  3.82  0.47  71.77  0.11   9.57  0.0  0.00           1   \n",
       "51   1.52320  13.72  3.72  0.51  71.75  0.09  10.06  0.0  0.16           1   \n",
       "\n",
       "     household  \n",
       "id              \n",
       "22           0  \n",
       "185          1  \n",
       "40           0  \n",
       "39           0  \n",
       "51           0  "
      ]
     },
     "execution_count": 4,
     "metadata": {},
     "output_type": "execute_result"
    }
   ],
   "source": [
    "# glass identification dataset\n",
    "import pandas as pd\n",
    "import numpy as np\n",
    "url = 'http://archive.ics.uci.edu/ml/machine-learning-databases/glass/glass.data'\n",
    "col_names = ['id','ri','na','mg','al','si','k','ca','ba','fe','glass_type']\n",
    "glass = pd.read_csv(url, names=col_names, index_col='id')\n",
    "glass.sort_values('al', inplace=True)\n",
    "# types 1, 2, 3 are window glass\n",
    "# types 5, 6, 7 are household glass\n",
    "glass['household'] = glass.glass_type.map({1:0, 2:0, 3:0, 5:1, 6:1, 7:1})\n",
    "glass.head()"
   ]
  },
  {
   "cell_type": "markdown",
   "metadata": {},
   "source": [
    "Let's look at the relationship between aluminum content and glass type. \n",
    "There appears to be a relationship between the two, where more aluminum correlates with household glass. "
   ]
  },
  {
   "cell_type": "code",
   "execution_count": 52,
   "metadata": {},
   "outputs": [
    {
     "data": {
      "text/plain": [
       "Text(0, 0.5, 'household')"
      ]
     },
     "execution_count": 52,
     "metadata": {},
     "output_type": "execute_result"
    },
    {
     "data": {
      "image/png": "[encoded data removed]",
      "text/plain": [
       "<Figure size 432x288 with 1 Axes>"
      ]
     },
     "metadata": {
      "needs_background": "light"
     },
     "output_type": "display_data"
    }
   ],
   "source": [
    "import matplotlib.pyplot as plt\n",
    "plt.scatter(glass.al, glass.household)\n",
    "plt.xlabel('al')\n",
    "plt.ylabel('household')"
   ]
  },
  {
   "cell_type": "markdown",
   "metadata": {},
   "source": [
    "We could fit a linear regression model to this data"
   ]
  },
  {
   "cell_type": "code",
   "execution_count": 53,
   "metadata": {},
   "outputs": [],
   "source": [
    "from sklearn.linear_model import LinearRegression\n",
    "# fit a linear regression model and store the predictions\n",
    "\n",
    "feature_cols = ['al']\n",
    "X = glass[feature_cols]\n",
    "y = glass.household\n",
    "\n",
    "lr = LinearRegression()\n",
    "lr.fit(X, y)\n",
    "glass['household_pred'] = lr.predict(X)"
   ]
  },
  {
   "cell_type": "code",
   "execution_count": 54,
   "metadata": {},
   "outputs": [
    {
     "data": {
      "text/plain": [
       "Text(0, 0.5, 'household')"
      ]
     },
     "execution_count": 54,
     "metadata": {},
     "output_type": "execute_result"
    },
    {
     "data": {
      "image/png": "[encoded data removed]",
      "text/plain": [
       "<Figure size 432x288 with 1 Axes>"
      ]
     },
     "metadata": {
      "needs_background": "light"
     },
     "output_type": "display_data"
    }
   ],
   "source": [
    "# scatter plot that includes the regression line\n",
    "plt.scatter(glass.al, glass.household)\n",
    "plt.plot(glass.al, glass.household_pred, color='red')\n",
    "plt.xlabel('al')\n",
    "plt.ylabel('household')"
   ]
  },
  {
   "cell_type": "markdown",
   "metadata": {},
   "source": [
    "## What are some issues with the graph above?\n",
    "\n",
    "![talk amongst yourselves](https://media.giphy.com/media/3o6Zt44rlujPePNVVC/giphy.gif)"
   ]
  },
  {
   "cell_type": "code",
   "execution_count": 10,
   "metadata": {},
   "outputs": [],
   "source": [
    "# Let's see what happens if we have class imbalance.\n",
    "\n",
    "from sklearn.linear_model import LinearRegression\n",
    "# fit a linear regression model and store the predictions\n",
    "\n",
    "feature_cols = ['al']\n",
    "\n",
    "# Add data with high aluminum content associated with household glass\n",
    "X_more = np.random.normal(4.5, .25, 20)\n",
    "y_more = np.full(20, 1,)\n",
    "y_aug = np.append(y, y_more)\n",
    "X_aug = np.append(X['al'], X_more).reshape(-1,1)"
   ]
  },
  {
   "cell_type": "code",
   "execution_count": 11,
   "metadata": {},
   "outputs": [],
   "source": [
    "# fit our regression\n",
    "lr = LinearRegression()\n",
    "lr.fit(X_aug, y_aug.reshape(-1,1))\n",
    "y_hat = lr.predict(X_aug)\n"
   ]
  },
  {
   "cell_type": "code",
   "execution_count": 12,
   "metadata": {},
   "outputs": [
    {
     "data": {
      "text/plain": [
       "Text(0, 0.5, 'household')"
      ]
     },
     "execution_count": 12,
     "metadata": {},
     "output_type": "execute_result"
    },
    {
     "data": {
      "image/png": "[encoded data removed]",
      "text/plain": [
       "<Figure size 432x288 with 1 Axes>"
      ]
     },
     "metadata": {
      "needs_background": "light"
     },
     "output_type": "display_data"
    }
   ],
   "source": [
    "# The line is shifts dramatically with this outliers.\n",
    "plt.scatter(X_aug, y_aug)\n",
    "plt.plot(X_aug, y_hat, color='red')\n",
    "plt.xlabel('al')\n",
    "plt.ylabel('household')"
   ]
  },
  {
   "cell_type": "code",
   "execution_count": 56,
   "metadata": {},
   "outputs": [
    {
     "data": {
      "text/plain": [
       "Text(0, 0.5, 'household')"
      ]
     },
     "execution_count": 56,
     "metadata": {},
     "output_type": "execute_result"
    },
    {
     "data": {
      "image/png": "[encoded data removed]",
      "text/plain": [
       "<Figure size 432x288 with 1 Axes>"
      ]
     },
     "metadata": {
      "needs_background": "light"
     },
     "output_type": "display_data"
    }
   ],
   "source": [
    "# Back to our original dataset\n",
    "\n",
    "plt.scatter(glass.al, glass.household)\n",
    "plt.plot(glass.al, glass.household_pred, color='red')\n",
    "plt.xlabel('al')\n",
    "plt.ylabel('household')"
   ]
  },
  {
   "cell_type": "markdown",
   "metadata": {},
   "source": [
    "We predict the 0 class for lower values of al, and the 1 class for higher values of al. What's our cutoff value? Around al=2, because that's where the linear regression line crosses the midpoint between predicting class 0 and class 1.\n",
    "\n",
    "Therefore, we'll say that if household_pred >= 0.5, we predict a class of 1, else we predict a class of 0.\n",
    "\n",
    "If al=3, what class do we predict for household?\n",
    "\n",
    "If al=1.5, what class do we predict for household?\n",
    "\n"
   ]
  },
  {
   "cell_type": "code",
   "execution_count": 8,
   "metadata": {},
   "outputs": [
    {
     "data": {
      "text/html": [
       "<div>\n",
       "<style scoped>\n",
       "    .dataframe tbody tr th:only-of-type {\n",
       "        vertical-align: middle;\n",
       "    }\n",
       "\n",
       "    .dataframe tbody tr th {\n",
       "        vertical-align: top;\n",
       "    }\n",
       "\n",
       "    .dataframe thead th {\n",
       "        text-align: right;\n",
       "    }\n",
       "</style>\n",
       "<table border=\"1\" class=\"dataframe\">\n",
       "  <thead>\n",
       "    <tr style=\"text-align: right;\">\n",
       "      <th></th>\n",
       "      <th>ri</th>\n",
       "      <th>na</th>\n",
       "      <th>mg</th>\n",
       "      <th>al</th>\n",
       "      <th>si</th>\n",
       "      <th>k</th>\n",
       "      <th>ca</th>\n",
       "      <th>ba</th>\n",
       "      <th>fe</th>\n",
       "      <th>glass_type</th>\n",
       "      <th>household</th>\n",
       "      <th>household_pred</th>\n",
       "      <th>household_pred_class</th>\n",
       "    </tr>\n",
       "    <tr>\n",
       "      <th>id</th>\n",
       "      <th></th>\n",
       "      <th></th>\n",
       "      <th></th>\n",
       "      <th></th>\n",
       "      <th></th>\n",
       "      <th></th>\n",
       "      <th></th>\n",
       "      <th></th>\n",
       "      <th></th>\n",
       "      <th></th>\n",
       "      <th></th>\n",
       "      <th></th>\n",
       "      <th></th>\n",
       "    </tr>\n",
       "  </thead>\n",
       "  <tbody>\n",
       "    <tr>\n",
       "      <th>22</th>\n",
       "      <td>1.51966</td>\n",
       "      <td>14.77</td>\n",
       "      <td>3.75</td>\n",
       "      <td>0.29</td>\n",
       "      <td>72.02</td>\n",
       "      <td>0.03</td>\n",
       "      <td>9.00</td>\n",
       "      <td>0.0</td>\n",
       "      <td>0.00</td>\n",
       "      <td>1</td>\n",
       "      <td>0</td>\n",
       "      <td>-0.340495</td>\n",
       "      <td>0</td>\n",
       "    </tr>\n",
       "    <tr>\n",
       "      <th>185</th>\n",
       "      <td>1.51115</td>\n",
       "      <td>17.38</td>\n",
       "      <td>0.00</td>\n",
       "      <td>0.34</td>\n",
       "      <td>75.41</td>\n",
       "      <td>0.00</td>\n",
       "      <td>6.65</td>\n",
       "      <td>0.0</td>\n",
       "      <td>0.00</td>\n",
       "      <td>6</td>\n",
       "      <td>1</td>\n",
       "      <td>-0.315436</td>\n",
       "      <td>0</td>\n",
       "    </tr>\n",
       "    <tr>\n",
       "      <th>40</th>\n",
       "      <td>1.52213</td>\n",
       "      <td>14.21</td>\n",
       "      <td>3.82</td>\n",
       "      <td>0.47</td>\n",
       "      <td>71.77</td>\n",
       "      <td>0.11</td>\n",
       "      <td>9.57</td>\n",
       "      <td>0.0</td>\n",
       "      <td>0.00</td>\n",
       "      <td>1</td>\n",
       "      <td>0</td>\n",
       "      <td>-0.250283</td>\n",
       "      <td>0</td>\n",
       "    </tr>\n",
       "    <tr>\n",
       "      <th>39</th>\n",
       "      <td>1.52213</td>\n",
       "      <td>14.21</td>\n",
       "      <td>3.82</td>\n",
       "      <td>0.47</td>\n",
       "      <td>71.77</td>\n",
       "      <td>0.11</td>\n",
       "      <td>9.57</td>\n",
       "      <td>0.0</td>\n",
       "      <td>0.00</td>\n",
       "      <td>1</td>\n",
       "      <td>0</td>\n",
       "      <td>-0.250283</td>\n",
       "      <td>0</td>\n",
       "    </tr>\n",
       "    <tr>\n",
       "      <th>51</th>\n",
       "      <td>1.52320</td>\n",
       "      <td>13.72</td>\n",
       "      <td>3.72</td>\n",
       "      <td>0.51</td>\n",
       "      <td>71.75</td>\n",
       "      <td>0.09</td>\n",
       "      <td>10.06</td>\n",
       "      <td>0.0</td>\n",
       "      <td>0.16</td>\n",
       "      <td>1</td>\n",
       "      <td>0</td>\n",
       "      <td>-0.230236</td>\n",
       "      <td>0</td>\n",
       "    </tr>\n",
       "  </tbody>\n",
       "</table>\n",
       "</div>"
      ],
      "text/plain": [
       "          ri     na    mg    al     si     k     ca   ba    fe  glass_type  \\\n",
       "id                                                                           \n",
       "22   1.51966  14.77  3.75  0.29  72.02  0.03   9.00  0.0  0.00           1   \n",
       "185  1.51115  17.38  0.00  0.34  75.41  0.00   6.65  0.0  0.00           6   \n",
       "40   1.52213  14.21  3.82  0.47  71.77  0.11   9.57  0.0  0.00           1   \n",
       "39   1.52213  14.21  3.82  0.47  71.77  0.11   9.57  0.0  0.00           1   \n",
       "51   1.52320  13.72  3.72  0.51  71.75  0.09  10.06  0.0  0.16           1   \n",
       "\n",
       "     household  household_pred  household_pred_class  \n",
       "id                                                    \n",
       "22           0       -0.340495                     0  \n",
       "185          1       -0.315436                     0  \n",
       "40           0       -0.250283                     0  \n",
       "39           0       -0.250283                     0  \n",
       "51           0       -0.230236                     0  "
      ]
     },
     "execution_count": 8,
     "metadata": {},
     "output_type": "execute_result"
    }
   ],
   "source": [
    "# transform household_pred to 1 or 0\n",
    "glass['household_pred_class'] = np.where(glass.household_pred >= 0.5, 1, 0)\n",
    "glass.head()"
   ]
  },
  {
   "cell_type": "code",
   "execution_count": 9,
   "metadata": {},
   "outputs": [
    {
     "data": {
      "text/plain": [
       "Text(0, 0.5, 'household')"
      ]
     },
     "execution_count": 9,
     "metadata": {},
     "output_type": "execute_result"
    },
    {
     "data": {
      "image/png": "[encoded data removed]",
      "text/plain": [
       "<Figure size 432x288 with 1 Axes>"
      ]
     },
     "metadata": {
      "needs_background": "light"
     },
     "output_type": "display_data"
    }
   ],
   "source": [
    "# plot the class predictions\n",
    "plt.scatter(glass.al, glass.household)\n",
    "plt.plot(glass.al, glass.household_pred_class, color='red')\n",
    "plt.xlabel('al')\n",
    "plt.ylabel('household')"
   ]
  },
  {
   "cell_type": "code",
   "execution_count": 13,
   "metadata": {},
   "outputs": [
    {
     "data": {
      "text/plain": [
       "Text(0, 0.5, 'household')"
      ]
     },
     "execution_count": 13,
     "metadata": {},
     "output_type": "execute_result"
    },
    {
     "data": {
      "image/png": "[encoded data removed]",
      "text/plain": [
       "<Figure size 432x288 with 1 Axes>"
      ]
     },
     "metadata": {
      "needs_background": "light"
     },
     "output_type": "display_data"
    }
   ],
   "source": [
    "# With class imbalance\n",
    "\n",
    "pred_class = np.where(y_hat >= 0.5, 1, 0)\n",
    "np.unique(pred_class, return_counts = True)\n",
    "\n",
    "# plot the class predictions\n",
    "plt.scatter(X_aug, y_aug)\n",
    "plt.plot(X_aug, pred_class, color='red')\n",
    "plt.xlabel('al')\n",
    "plt.ylabel('household')"
   ]
  },
  {
   "cell_type": "markdown",
   "metadata": {},
   "source": [
    "## How about we use logistic logistic regression instead?\n"
   ]
  },
  {
   "cell_type": "markdown",
   "metadata": {},
   "source": [
    "Which performs a similar threshold decision"
   ]
  },
  {
   "cell_type": "code",
   "execution_count": 57,
   "metadata": {},
   "outputs": [],
   "source": [
    "# fit a logistic regression model and store the class predictions\n",
    "from sklearn.linear_model import LogisticRegression\n",
    "logreg = LogisticRegression(C=1e9)\n",
    "feature_cols = ['al']\n",
    "X = glass[feature_cols]\n",
    "y = glass.household\n",
    "logreg.fit(X, y)\n",
    "glass['household_pred_class'] = logreg.predict(X)"
   ]
  },
  {
   "cell_type": "code",
   "execution_count": 58,
   "metadata": {},
   "outputs": [
    {
     "data": {
      "text/plain": [
       "Text(0, 0.5, 'household')"
      ]
     },
     "execution_count": 58,
     "metadata": {},
     "output_type": "execute_result"
    },
    {
     "data": {
      "image/png": "[encoded data removed]",
      "text/plain": [
       "<Figure size 432x288 with 1 Axes>"
      ]
     },
     "metadata": {
      "needs_background": "light"
     },
     "output_type": "display_data"
    }
   ],
   "source": [
    "# plot the class predictions\n",
    "plt.scatter(glass.al, glass.household)\n",
    "plt.plot(glass.al, glass.household_pred_class, color='red')\n",
    "plt.xlabel('al')\n",
    "plt.ylabel('household')"
   ]
  },
  {
   "cell_type": "markdown",
   "metadata": {},
   "source": [
    "Not only do we have class predictions:"
   ]
  },
  {
   "cell_type": "code",
   "execution_count": 59,
   "metadata": {},
   "outputs": [
    {
     "data": {
      "text/plain": [
       "array([0, 0, 0, 0, 0, 0, 0, 0, 0, 0, 0, 0, 0, 0, 0, 0, 0, 0, 0, 0, 0, 0,\n",
       "       0, 0, 0, 0, 0, 0, 0, 0, 0, 0, 0, 0, 0, 0, 0, 0, 0, 0, 0, 0, 0, 0,\n",
       "       0, 0, 0, 0, 0, 0, 0, 0, 0, 0, 0, 0, 0, 0, 0, 0, 0, 0, 0, 0, 0, 0,\n",
       "       0, 0, 0, 0, 0, 0, 0, 0, 0, 0, 0, 0, 0, 0, 0, 0, 0, 0, 0, 0, 0, 0,\n",
       "       0, 0, 0, 0, 0, 0, 0, 0, 0, 0, 0, 0, 0, 0, 0, 0, 0, 0, 0, 0, 0, 0,\n",
       "       0, 0, 0, 0, 0, 0, 0, 0, 0, 0, 0, 0, 0, 0, 0, 0, 0, 0, 0, 0, 0, 0,\n",
       "       0, 0, 0, 0, 0, 0, 0, 0, 0, 0, 0, 0, 0, 0, 0, 0, 0, 0, 0, 0, 0, 0,\n",
       "       0, 0, 0, 0, 0, 0, 0, 0, 0, 0, 0, 0, 0, 0, 0, 0, 0, 0, 0, 0, 0, 0,\n",
       "       0, 0, 0, 0, 1, 1, 1, 1, 1, 1, 1, 1, 1, 1, 1, 1, 1, 1, 1, 1, 1, 1,\n",
       "       1, 1, 1, 1, 1, 1, 1, 1, 1, 1, 1, 1, 1, 1, 1, 1])"
      ]
     },
     "execution_count": 59,
     "metadata": {},
     "output_type": "execute_result"
    }
   ],
   "source": [
    "logreg.predict(X)"
   ]
  },
  {
   "cell_type": "code",
   "execution_count": 60,
   "metadata": {},
   "outputs": [],
   "source": [
    "# fit a logistic regression model and store the class predictions\n",
    "from sklearn.linear_model import LogisticRegression\n",
    "logreg = LogisticRegression(C=1e9)\n",
    "\n",
    "logreg.fit(X_aug, y_aug)\n",
    "log_aug_pred = logreg.predict(X_aug)"
   ]
  },
  {
   "cell_type": "code",
   "execution_count": 61,
   "metadata": {},
   "outputs": [
    {
     "data": {
      "text/plain": [
       "Text(0, 0.5, 'household')"
      ]
     },
     "execution_count": 61,
     "metadata": {},
     "output_type": "execute_result"
    },
    {
     "data": {
      "image/png": "[encoded data removed]",
      "text/plain": [
       "<Figure size 432x288 with 1 Axes>"
      ]
     },
     "metadata": {
      "needs_background": "light"
     },
     "output_type": "display_data"
    }
   ],
   "source": [
    "# plot the class predictions\n",
    "plt.scatter(X_aug, y_aug)\n",
    "plt.plot(X_aug, log_aug_pred, color='red')\n",
    "plt.xlabel('al')\n",
    "plt.ylabel('household')"
   ]
  },
  {
   "cell_type": "markdown",
   "metadata": {},
   "source": [
    "# 3. Understand how the sigmoid function translates the linear equation to a probability"
   ]
  },
  {
   "cell_type": "markdown",
   "metadata": {},
   "source": [
    "## Predict Proba\n",
    "\n",
    "Let's take a closer look into what fitting the logistic model results in."
   ]
  },
  {
   "cell_type": "markdown",
   "metadata": {},
   "source": [
    "Along with the class predictions, we have probabilities associated with each record:"
   ]
  },
  {
   "cell_type": "code",
   "execution_count": 62,
   "metadata": {},
   "outputs": [
    {
     "data": {
      "text/plain": [
       "array([[0.99850163, 0.00149837],\n",
       "       [0.9981539 , 0.0018461 ],\n",
       "       [0.99682514, 0.00317486],\n",
       "       [0.99682514, 0.00317486],\n",
       "       [0.99624938, 0.00375062],\n",
       "       [0.99538139, 0.00461861],\n",
       "       [0.99538139, 0.00461861],\n",
       "       [0.99498061, 0.00501939],\n",
       "       [0.99328552, 0.00671448],\n",
       "       [0.99300085, 0.00699915]])"
      ]
     },
     "execution_count": 62,
     "metadata": {},
     "output_type": "execute_result"
    }
   ],
   "source": [
    "logreg.predict_proba(X)[:10]"
   ]
  },
  {
   "cell_type": "markdown",
   "metadata": {},
   "source": [
    "## Probabilities and the sigmoid functions\n",
    "Here, we can start digging deeper into how logistic regression works.\n",
    "\n",
    "The idea behind logistic regression is to model the conditional probability of a class given a set of independent features."
   ]
  },
  {
   "cell_type": "markdown",
   "metadata": {},
   "source": [
    "For the binary case, it is the probability of a 0 or 1 based on a set of independent features X.\n",
    "\n",
    "$\\Large P(G = 1|X = x)$\n",
    "\n",
    "Since the total probability must be equal to 1:\n",
    "\n",
    "$\\Large P(G = 0|X = x) = 1 - P(G = 1|X = x)$ "
   ]
  },
  {
   "cell_type": "markdown",
   "metadata": {},
   "source": [
    "In order to realize such a goal, we have to somehow translate our linear output into a probability.  As we know, probability takes on a value between 0 and 1,  whereas the linear equation can output any value from $-\\infty$ to $\\infty$.\n",
    "\n",
    "![sigmoid](https://media.giphy.com/media/GtKtQ9Gb064uY/giphy.gif)\n",
    "\n",
    "In comes the sigmoid function to the rescue.\n",
    "\n",
    "\n",
    "<img src='https://cdn-images-1.medium.com/max/1600/1*RqXFpiNGwdiKBWyLJc_E7g.png' />\n",
    "\n",
    "If ‘Z’ goes to infinity, Y(predicted) will become 1 and if ‘Z’ goes to negative infinity, Y(predicted) will become 0.\n",
    "\n",
    "\n",
    "\n",
    "Using the sigmoid function above, if X = 1, the estimated probability would be 0.8. This tells that there is 80% chance that this observation would fall in the positive class.\n",
    "\n"
   ]
  },
  {
   "cell_type": "code",
   "execution_count": 63,
   "metadata": {},
   "outputs": [],
   "source": [
    "import numpy as np\n",
    "def sigmoid(any_number):\n",
    "    \n",
    "    \"Input any number, return a number between 0 and 1\"\n",
    "    \n",
    "    return 1/(1+ np.e**(-any_number))\n",
    "    "
   ]
  },
  {
   "cell_type": "markdown",
   "metadata": {},
   "source": [
    "In your head, work through the approximate output of the function for:\n",
    "  - z = 0\n",
    "  - z = 1000\n",
    "  - z = -1000"
   ]
  },
  {
   "cell_type": "code",
   "execution_count": 64,
   "metadata": {},
   "outputs": [
    {
     "ename": "TypeError",
     "evalue": "sigmoid() missing 1 required positional argument: 'any_number'",
     "output_type": "error",
     "traceback": [
      "\u001b[0;31m---------------------------------------------------------------------------\u001b[0m",
      "\u001b[0;31mTypeError\u001b[0m                                 Traceback (most recent call last)",
      "\u001b[0;32m<ipython-input-64-32c3939704e4>\u001b[0m in \u001b[0;36m<module>\u001b[0;34m\u001b[0m\n\u001b[1;32m      1\u001b[0m \u001b[0;31m# Now, input numbers into the function to see that it is functioning correcting.\u001b[0m\u001b[0;34m\u001b[0m\u001b[0;34m\u001b[0m\u001b[0;34m\u001b[0m\u001b[0m\n\u001b[1;32m      2\u001b[0m \u001b[0;34m\u001b[0m\u001b[0m\n\u001b[0;32m----> 3\u001b[0;31m \u001b[0msigmoid\u001b[0m\u001b[0;34m(\u001b[0m\u001b[0;34m)\u001b[0m\u001b[0;34m\u001b[0m\u001b[0;34m\u001b[0m\u001b[0m\n\u001b[0m",
      "\u001b[0;31mTypeError\u001b[0m: sigmoid() missing 1 required positional argument: 'any_number'"
     ]
    }
   ],
   "source": [
    "# Now, input numbers into the function to see that it is functioning correcting.\n",
    "\n",
    "sigmoid()"
   ]
  },
  {
   "cell_type": "markdown",
   "metadata": {},
   "source": [
    "## Linking it to the linear equation"
   ]
  },
  {
   "cell_type": "markdown",
   "metadata": {},
   "source": [
    "Now for the fun part.  The input of the sigmoid is our trusty old linear equation.\n",
    "\n",
    "$$ \\hat y = \\hat\\beta_0 + \\hat\\beta_1 x_1 + \\hat\\beta_2, x_2 +\\ldots + \\hat\\beta_n x_n $$\n",
    "\n",
    "The linear equation is passed into the sigmoid function to produce a probability between 0 and 1\n",
    "$$\\displaystyle\\frac{1}{1+e^{-(\\hat \\beta_o+\\hat \\beta_1 x_1 + \\hat \\beta_2 x_2...\\hat\\beta_n x_n)}}$$\n",
    "\n",
    "Remember, the goal of logistic regression is to model the conditional of a class using a transformation of the linear equation.\n",
    "\n",
    "In other words:\n",
    "\n",
    "$$\\Large P(G = 1|X = x_1, x_2...x_n) = \\frac{1}{1+e^{-(\\hat \\beta_o+\\hat \\beta_1 x_1 + \\hat \\beta_2 x_2...\\hat\\beta_n x_n)}}$$\n"
   ]
  },
  {
   "cell_type": "markdown",
   "metadata": {},
   "source": [
    "Now, with some arithmetic:\n",
    "\n",
    "You can show that, by multiplying both numerator and denominator by $e^{(\\hat \\beta_o+\\hat \\beta_1 x_1 + \\hat \\beta_2 x_2...\\hat\\beta_n x_n)}$\n",
    "\n",
    "\n",
    "$$ \\Large P(G = 1|X = x) = \\displaystyle \\frac{e^{\\hat \\beta_o+\\hat \\beta_1 x_1 + \\hat \\beta_2 x_2...\\hat\\beta_n x_n}}{1+e^{\\hat \\beta_o+\\hat \\beta_1 x_1 + \\hat \\beta_2 x_2...\\hat\\beta_n x_n}}$$\n",
    "\n",
    "As a result, you can compute:\n",
    "\n",
    "$$ \\Large P(G = 0|X =x) = 1- \\displaystyle \\frac{e^{\\hat \\beta_o+\\hat \\beta_1 x_1 + \\hat \\beta_2 x_2...\\hat\\beta_n x_n}}{1+e^{\\hat \\beta_o+\\hat \\beta_1 x_1 + \\hat \\beta_2 x_2...\\hat\\beta_n x_n}}= \\displaystyle \\frac{1}{1+e^{\\hat \\beta_o+\\hat \\beta_1 x_1 + \\hat \\beta_2 x_2...\\hat\\beta_n x_n}}$$\n"
   ]
  },
  {
   "cell_type": "markdown",
   "metadata": {},
   "source": [
    "#### Odds ratio\n",
    "\n",
    "This doesn't seem to be very spectacular, but combining these two results leads to an easy interpretation of the model parameters, triggered by the *odds*, which equal p/(1-p):\n",
    "\n",
    "$$probability = \\frac {one\\ outcome} {all\\ outcomes}$$\n",
    "\n",
    "$$odds = \\frac {one\\ outcome} {all\\ other\\ outcomes}$$\n",
    "\n",
    "Examples:\n",
    "\n",
    "- Dice roll of 1: probability = 1/6, odds = 1/5\n",
    "- Even dice roll: probability = 3/6, odds = 3/3 = 1\n",
    "- Dice roll less than 5: probability = 4/6, odds = 4/2 = 2\n",
    "\n",
    "$$odds = \\frac {probability} {1 - probability}$$\n",
    "\n"
   ]
  },
  {
   "cell_type": "markdown",
   "metadata": {},
   "source": [
    "$$ \\Large \\dfrac{ P(G = 1|X = x) }{P(G = 0|X =x)} = e^{\\hat \\beta_o+\\hat \\beta_1 x_1 + \\hat \\beta_2 x_2...\\hat\\beta_n x_n} $$\n",
    "\n",
    "This expression can be interpreted as the *odds in favor of class 1*.  "
   ]
  },
  {
   "cell_type": "markdown",
   "metadata": {},
   "source": [
    "Taking the log of both sides leads to:\n",
    "<br><br>\n",
    "    $\\ln{\\dfrac{ P(G = 1|X = x) }{P(G = 0|X =x)}} = \\beta_0 + \\beta_1*X_1 + \\beta_2*X_2...\\beta_n*X_n$\n",
    "    \n",
    "Here me can see why we call it logisitic regression.\n",
    "\n",
    "Our linear function calculates the log of the probability we predict 1, divided by the probability of predicting 0.  In other words, the linear equation is calculating the **log of the odds** that we predict a class of 1.\n",
    "    "
   ]
  },
  {
   "cell_type": "markdown",
   "metadata": {},
   "source": [
    "# Pair\n",
    "### Those are a lot of formulas to take in.  \n",
    "\n",
    "To help us reinforce how logistic regression works, let's do an exercise where we reproduce the predicted probabilities by using our coefficients.  Below is model we fit above, predicting whether glass was window or household glass.\n"
   ]
  },
  {
   "cell_type": "code",
   "execution_count": 65,
   "metadata": {},
   "outputs": [
    {
     "data": {
      "text/html": [
       "<div>\n",
       "<style scoped>\n",
       "    .dataframe tbody tr th:only-of-type {\n",
       "        vertical-align: middle;\n",
       "    }\n",
       "\n",
       "    .dataframe tbody tr th {\n",
       "        vertical-align: top;\n",
       "    }\n",
       "\n",
       "    .dataframe thead th {\n",
       "        text-align: right;\n",
       "    }\n",
       "</style>\n",
       "<table border=\"1\" class=\"dataframe\">\n",
       "  <thead>\n",
       "    <tr style=\"text-align: right;\">\n",
       "      <th></th>\n",
       "      <th>ri</th>\n",
       "      <th>na</th>\n",
       "      <th>mg</th>\n",
       "      <th>al</th>\n",
       "      <th>si</th>\n",
       "      <th>k</th>\n",
       "      <th>ca</th>\n",
       "      <th>ba</th>\n",
       "      <th>fe</th>\n",
       "      <th>glass_type</th>\n",
       "      <th>household</th>\n",
       "      <th>household_pred</th>\n",
       "      <th>household_pred_class</th>\n",
       "    </tr>\n",
       "    <tr>\n",
       "      <th>id</th>\n",
       "      <th></th>\n",
       "      <th></th>\n",
       "      <th></th>\n",
       "      <th></th>\n",
       "      <th></th>\n",
       "      <th></th>\n",
       "      <th></th>\n",
       "      <th></th>\n",
       "      <th></th>\n",
       "      <th></th>\n",
       "      <th></th>\n",
       "      <th></th>\n",
       "      <th></th>\n",
       "    </tr>\n",
       "  </thead>\n",
       "  <tbody>\n",
       "    <tr>\n",
       "      <th>22</th>\n",
       "      <td>1.51966</td>\n",
       "      <td>14.77</td>\n",
       "      <td>3.75</td>\n",
       "      <td>0.29</td>\n",
       "      <td>72.02</td>\n",
       "      <td>0.03</td>\n",
       "      <td>9.00</td>\n",
       "      <td>0.0</td>\n",
       "      <td>0.00</td>\n",
       "      <td>1</td>\n",
       "      <td>0</td>\n",
       "      <td>-0.340495</td>\n",
       "      <td>0</td>\n",
       "    </tr>\n",
       "    <tr>\n",
       "      <th>185</th>\n",
       "      <td>1.51115</td>\n",
       "      <td>17.38</td>\n",
       "      <td>0.00</td>\n",
       "      <td>0.34</td>\n",
       "      <td>75.41</td>\n",
       "      <td>0.00</td>\n",
       "      <td>6.65</td>\n",
       "      <td>0.0</td>\n",
       "      <td>0.00</td>\n",
       "      <td>6</td>\n",
       "      <td>1</td>\n",
       "      <td>-0.315436</td>\n",
       "      <td>0</td>\n",
       "    </tr>\n",
       "    <tr>\n",
       "      <th>40</th>\n",
       "      <td>1.52213</td>\n",
       "      <td>14.21</td>\n",
       "      <td>3.82</td>\n",
       "      <td>0.47</td>\n",
       "      <td>71.77</td>\n",
       "      <td>0.11</td>\n",
       "      <td>9.57</td>\n",
       "      <td>0.0</td>\n",
       "      <td>0.00</td>\n",
       "      <td>1</td>\n",
       "      <td>0</td>\n",
       "      <td>-0.250283</td>\n",
       "      <td>0</td>\n",
       "    </tr>\n",
       "    <tr>\n",
       "      <th>39</th>\n",
       "      <td>1.52213</td>\n",
       "      <td>14.21</td>\n",
       "      <td>3.82</td>\n",
       "      <td>0.47</td>\n",
       "      <td>71.77</td>\n",
       "      <td>0.11</td>\n",
       "      <td>9.57</td>\n",
       "      <td>0.0</td>\n",
       "      <td>0.00</td>\n",
       "      <td>1</td>\n",
       "      <td>0</td>\n",
       "      <td>-0.250283</td>\n",
       "      <td>0</td>\n",
       "    </tr>\n",
       "    <tr>\n",
       "      <th>51</th>\n",
       "      <td>1.52320</td>\n",
       "      <td>13.72</td>\n",
       "      <td>3.72</td>\n",
       "      <td>0.51</td>\n",
       "      <td>71.75</td>\n",
       "      <td>0.09</td>\n",
       "      <td>10.06</td>\n",
       "      <td>0.0</td>\n",
       "      <td>0.16</td>\n",
       "      <td>1</td>\n",
       "      <td>0</td>\n",
       "      <td>-0.230236</td>\n",
       "      <td>0</td>\n",
       "    </tr>\n",
       "  </tbody>\n",
       "</table>\n",
       "</div>"
      ],
      "text/plain": [
       "          ri     na    mg    al     si     k     ca   ba    fe  glass_type  \\\n",
       "id                                                                           \n",
       "22   1.51966  14.77  3.75  0.29  72.02  0.03   9.00  0.0  0.00           1   \n",
       "185  1.51115  17.38  0.00  0.34  75.41  0.00   6.65  0.0  0.00           6   \n",
       "40   1.52213  14.21  3.82  0.47  71.77  0.11   9.57  0.0  0.00           1   \n",
       "39   1.52213  14.21  3.82  0.47  71.77  0.11   9.57  0.0  0.00           1   \n",
       "51   1.52320  13.72  3.72  0.51  71.75  0.09  10.06  0.0  0.16           1   \n",
       "\n",
       "     household  household_pred  household_pred_class  \n",
       "id                                                    \n",
       "22           0       -0.340495                     0  \n",
       "185          1       -0.315436                     0  \n",
       "40           0       -0.250283                     0  \n",
       "39           0       -0.250283                     0  \n",
       "51           0       -0.230236                     0  "
      ]
     },
     "execution_count": 65,
     "metadata": {},
     "output_type": "execute_result"
    }
   ],
   "source": [
    "from sklearn.linear_model import LogisticRegression\n",
    "logreg = LogisticRegression(C=1e9)\n",
    "feature_cols = ['al']\n",
    "X = glass[feature_cols]\n",
    "y = glass.household\n",
    "logreg.fit(X, y)\n",
    "glass['household_pred_class'] = logreg.predict(X)\n",
    "glass.head()"
   ]
  },
  {
   "cell_type": "markdown",
   "metadata": {},
   "source": [
    "Just like linear regression, logistic regression calculates parameters associated with features and intercept. In the fit model above, we have one coefficient associated with aluminum, and one associate with the intercept.\n",
    "\n",
    "In the cell below, use those coefficients along with the original data to calculate an array repressenting the logodds."
   ]
  },
  {
   "cell_type": "code",
   "execution_count": 66,
   "metadata": {},
   "outputs": [],
   "source": [
    "log_odds = None"
   ]
  },
  {
   "cell_type": "code",
   "execution_count": 67,
   "metadata": {},
   "outputs": [
    {
     "data": {
      "text/plain": [
       "id\n",
       "22    -6.501280\n",
       "185   -6.292259\n",
       "40    -5.748805\n",
       "39    -5.748805\n",
       "51    -5.581589\n",
       "184   -5.372568\n",
       "110   -5.372568\n",
       "158   -5.288960\n",
       "153   -4.996331\n",
       "104   -4.954527\n",
       "Name: al, dtype: float64"
      ]
     },
     "execution_count": 67,
     "metadata": {},
     "output_type": "execute_result"
    }
   ],
   "source": [
    "#__SOLUTION__\n",
    "log_odds = glass['al']*logreg.coef_[0] + logreg.intercept_\n",
    "log_odds[:10]"
   ]
  },
  {
   "cell_type": "markdown",
   "metadata": {},
   "source": [
    "Now, take that array, and feed it into the sigmoid function to get the probabilities of class 1."
   ]
  },
  {
   "cell_type": "code",
   "execution_count": 68,
   "metadata": {},
   "outputs": [
    {
     "data": {
      "text/plain": [
       "[0.0014992652045145013,\n",
       " 0.001847156298978947,\n",
       " 0.0031764633049502795,\n",
       " 0.0031764633049502795,\n",
       " 0.003752442511807795,\n",
       " 0.004620743778464678,\n",
       " 0.004620743778464678,\n",
       " 0.00502166268078726,\n",
       " 0.006717287268443344,\n",
       " 0.007002041892247891]"
      ]
     },
     "execution_count": 68,
     "metadata": {},
     "output_type": "execute_result"
    }
   ],
   "source": [
    "#__SOLUTION__\n",
    "p_1 = [sigmoid(log_odd) for log_odd in log_odds ]\n",
    "p_1[:10]"
   ]
  },
  {
   "cell_type": "code",
   "execution_count": 69,
   "metadata": {},
   "outputs": [
    {
     "data": {
      "text/plain": [
       "array([[0.99850073, 0.00149927],\n",
       "       [0.99815284, 0.00184716],\n",
       "       [0.99682354, 0.00317646],\n",
       "       [0.99682354, 0.00317646],\n",
       "       [0.99624756, 0.00375244],\n",
       "       [0.99537926, 0.00462074],\n",
       "       [0.99537926, 0.00462074],\n",
       "       [0.99497834, 0.00502166],\n",
       "       [0.99328271, 0.00671729],\n",
       "       [0.99299796, 0.00700204]])"
      ]
     },
     "execution_count": 69,
     "metadata": {},
     "output_type": "execute_result"
    }
   ],
   "source": [
    "# Confirm that the output of predict_proba matches the probabilities you calculated\n",
    "logreg.predict_proba(X)[:10]"
   ]
  },
  {
   "cell_type": "markdown",
   "metadata": {},
   "source": [
    "# 4. Describe why logistic regression is a descriminative, parametric algorithm\n",
    "\n",
    "\n",
    "A decision boundary is a pretty simple concept. Logistic regression is a classification algorithm, the output should be a category: Yes/No, True/False, Red/Yellow/Orange. Our prediction function however returns a probability score between 0 and 1. A decision boundary is a threshold or tipping point that helps us decide which category to choose based on probability.\n",
    "\n",
    "Logistic regression is a parametric, discriminative model.  \n",
    "\n",
    "In other words, its decisions are made via trained parameters: our beta coefficients. The hyperplane that these coefficients define is a boundary by which we can discriminate between the classes.    \n",
    "\n",
    "![](img/decision_boundary_2.jpg)"
   ]
  },
  {
   "cell_type": "markdown",
   "metadata": {},
   "source": [
    "# 5. Interpreting Coefficients"
   ]
  },
  {
   "cell_type": "markdown",
   "metadata": {},
   "source": [
    "What does our coefficient calculated above mean?"
   ]
  },
  {
   "cell_type": "code",
   "execution_count": 70,
   "metadata": {},
   "outputs": [
    {
     "data": {
      "text/plain": [
       "array([[4.18041341]])"
      ]
     },
     "execution_count": 70,
     "metadata": {},
     "output_type": "execute_result"
    }
   ],
   "source": [
    "logreg.coef_"
   ]
  },
  {
   "cell_type": "markdown",
   "metadata": {},
   "source": [
    "**Interpretation:** A 1 unit increase in 'al' is associated with a 4.18 unit increase in the log-odds of 'household'."
   ]
  },
  {
   "cell_type": "markdown",
   "metadata": {},
   "source": [
    "**Bottom line:** Positive coefficients increase the log-odds of the response (and thus increase the probability), and negative coefficients decrease the log-odds of the response (and thus decrease the probability)."
   ]
  },
  {
   "cell_type": "markdown",
   "metadata": {},
   "source": [
    "# Note on optimizing the coefficients"
   ]
  },
  {
   "cell_type": "markdown",
   "metadata": {},
   "source": [
    "Instead of optimizing the coefficients based on mean squared error, logistic regression looks to maximize the likelihood of seeing the probabilities given the class.\n",
    "\n",
    "Because we are dealing with a binary outcome, our likelihood equation comes from the Bernouli distribution:\n",
    "\n",
    "$$ \\Large Likelihood=\\prod\\limits_{i=0}^N p_i^{y_i}(1-p_i)^{1-y_i}$$\n",
    "\n",
    "Taking the log of both sides leads to the log_likelihood equation:\n",
    "\n",
    "$$ \\Large loglikelihood = \\sum\\limits_{i=1}^N y_i\\log{p_i} + (1-y_i)\\log(1-p_i) $$\n",
    "\n",
    "The goal of MLE is to maximize log-likelihood.\n",
    "\n",
    "Or, as we are generally look for minimums, we minimize the negative loglikelihood, which is our cost function:\n",
    "\n",
    "$$ \\Large negative\\ loglikelihood = \\sum\\limits_{i=1}^N - y_i\\log{p_i} - (1-y_i)\\log(1-p_i) $$\n",
    "\n",
    "When solving for the optimal coefficients of a logistic regression model, Log-Loss is the cost function that is used.\n",
    "\n",
    "\n",
    "The general idea is to start with a set of betas, calculate the probabilities, calculate the log-likelihood, adjust the Betas in the direction of which gradient is heading towards higher likelihood.\n",
    "\n",
    "There is no closed form solution like the normal equation in linear regression, so we have to use stocastic gradient descent.  To do so we take the derivative of the negative loglikelihood and set it to zero to find the gradient of the loglikelihood, then update our coefficients. Just like in linear regression SGD, we use a learning rate when updating them.\n",
    "\n",
    "\n",
    "https://towardsdatascience.com/understanding-binary-cross-entropy-log-loss-a-visual-explanation-a3ac6025181a\n",
    "\n",
    "http://wiki.fast.ai/index.php/Log_Loss\n",
    "\n",
    "Here is a good Youtube video on MLE: https://www.youtube.com/watch?v=BfKanl1aSG0\n",
    "\n",
    "Math behind the gradient of log-likelihood is ESL section 4.4.1: https://web.stanford.edu/~hastie/ElemStatLearn//.\n",
    "\n",
    "\n"
   ]
  },
  {
   "cell_type": "markdown",
   "metadata": {},
   "source": [
    "# 6. Hyperparameter Tuning the C Variable"
   ]
  },
  {
   "cell_type": "markdown",
   "metadata": {},
   "source": [
    "We have discussed 'L1' (lasso)  and 'L2' (ridge) regularization.  If you looked at the docstring of Sklearn's Logistic Regression function, you may have noticed that we can specify different types of regularization when fitting the model via the `penalty` parameter.\n",
    "\n",
    "We can also specificy the strength of the regularization via the `C` parameter. `C` is the inverse regularization strength.  So, a low `C` means high regularization strength."
   ]
  },
  {
   "cell_type": "code",
   "execution_count": 28,
   "metadata": {},
   "outputs": [],
   "source": [
    "from sklearn.linear_model import LogisticRegression\n",
    "\n",
    "# Ridge regularization with low strength\n",
    "logr = LogisticRegression(penalty='l2', C=10**8)\n"
   ]
  },
  {
   "cell_type": "code",
   "execution_count": 29,
   "metadata": {},
   "outputs": [
    {
     "data": {
      "text/html": [
       "<div>\n",
       "<style scoped>\n",
       "    .dataframe tbody tr th:only-of-type {\n",
       "        vertical-align: middle;\n",
       "    }\n",
       "\n",
       "    .dataframe tbody tr th {\n",
       "        vertical-align: top;\n",
       "    }\n",
       "\n",
       "    .dataframe thead th {\n",
       "        text-align: right;\n",
       "    }\n",
       "</style>\n",
       "<table border=\"1\" class=\"dataframe\">\n",
       "  <thead>\n",
       "    <tr style=\"text-align: right;\">\n",
       "      <th></th>\n",
       "      <th>Pregnancies</th>\n",
       "      <th>Glucose</th>\n",
       "      <th>BloodPressure</th>\n",
       "      <th>SkinThickness</th>\n",
       "      <th>Insulin</th>\n",
       "      <th>BMI</th>\n",
       "      <th>DiabetesPedigreeFunction</th>\n",
       "      <th>Age</th>\n",
       "      <th>Outcome</th>\n",
       "    </tr>\n",
       "  </thead>\n",
       "  <tbody>\n",
       "    <tr>\n",
       "      <th>0</th>\n",
       "      <td>6</td>\n",
       "      <td>148</td>\n",
       "      <td>72</td>\n",
       "      <td>35</td>\n",
       "      <td>0</td>\n",
       "      <td>33.6</td>\n",
       "      <td>0.627</td>\n",
       "      <td>50</td>\n",
       "      <td>1</td>\n",
       "    </tr>\n",
       "    <tr>\n",
       "      <th>1</th>\n",
       "      <td>1</td>\n",
       "      <td>85</td>\n",
       "      <td>66</td>\n",
       "      <td>29</td>\n",
       "      <td>0</td>\n",
       "      <td>26.6</td>\n",
       "      <td>0.351</td>\n",
       "      <td>31</td>\n",
       "      <td>0</td>\n",
       "    </tr>\n",
       "    <tr>\n",
       "      <th>2</th>\n",
       "      <td>8</td>\n",
       "      <td>183</td>\n",
       "      <td>64</td>\n",
       "      <td>0</td>\n",
       "      <td>0</td>\n",
       "      <td>23.3</td>\n",
       "      <td>0.672</td>\n",
       "      <td>32</td>\n",
       "      <td>1</td>\n",
       "    </tr>\n",
       "    <tr>\n",
       "      <th>3</th>\n",
       "      <td>1</td>\n",
       "      <td>89</td>\n",
       "      <td>66</td>\n",
       "      <td>23</td>\n",
       "      <td>94</td>\n",
       "      <td>28.1</td>\n",
       "      <td>0.167</td>\n",
       "      <td>21</td>\n",
       "      <td>0</td>\n",
       "    </tr>\n",
       "    <tr>\n",
       "      <th>4</th>\n",
       "      <td>0</td>\n",
       "      <td>137</td>\n",
       "      <td>40</td>\n",
       "      <td>35</td>\n",
       "      <td>168</td>\n",
       "      <td>43.1</td>\n",
       "      <td>2.288</td>\n",
       "      <td>33</td>\n",
       "      <td>1</td>\n",
       "    </tr>\n",
       "  </tbody>\n",
       "</table>\n",
       "</div>"
      ],
      "text/plain": [
       "   Pregnancies  Glucose  BloodPressure  SkinThickness  Insulin   BMI  \\\n",
       "0            6      148             72             35        0  33.6   \n",
       "1            1       85             66             29        0  26.6   \n",
       "2            8      183             64              0        0  23.3   \n",
       "3            1       89             66             23       94  28.1   \n",
       "4            0      137             40             35      168  43.1   \n",
       "\n",
       "   DiabetesPedigreeFunction  Age  Outcome  \n",
       "0                     0.627   50        1  \n",
       "1                     0.351   31        0  \n",
       "2                     0.672   32        1  \n",
       "3                     0.167   21        0  \n",
       "4                     2.288   33        1  "
      ]
     },
     "execution_count": 29,
     "metadata": {},
     "output_type": "execute_result"
    }
   ],
   "source": [
    "diabetes = pd.read_csv('data/diabetes.csv')\n",
    "diabetes.head()"
   ]
  },
  {
   "cell_type": "code",
   "execution_count": 30,
   "metadata": {},
   "outputs": [
    {
     "name": "stdout",
     "output_type": "stream",
     "text": [
      "[[ 1.18217114e-01  3.50280937e-02 -1.35333258e-02  7.25847638e-04\n",
      "  -1.20213666e-03  9.05742512e-02  9.52539204e-01  1.60020353e-02]]\n",
      "[-8.42344453]\n",
      "0.7825520833333334\n"
     ]
    },
    {
     "name": "stderr",
     "output_type": "stream",
     "text": [
      "/Users/johnmaxbarry/anaconda3/lib/python3.7/site-packages/sklearn/linear_model/_logistic.py:940: ConvergenceWarning: lbfgs failed to converge (status=1):\n",
      "STOP: TOTAL NO. of ITERATIONS REACHED LIMIT.\n",
      "\n",
      "Increase the number of iterations (max_iter) or scale the data as shown in:\n",
      "    https://scikit-learn.org/stable/modules/preprocessing.html\n",
      "Please also refer to the documentation for alternative solver options:\n",
      "    https://scikit-learn.org/stable/modules/linear_model.html#logistic-regression\n",
      "  extra_warning_msg=_LOGISTIC_SOLVER_CONVERGENCE_MSG)\n"
     ]
    }
   ],
   "source": [
    "logr = LogisticRegression(penalty='l2', C=10**8)\n",
    "y = diabetes.Outcome\n",
    "X = diabetes.drop(\"Outcome\", axis=1)\n",
    "logr.fit(X, y)\n",
    "\n",
    "print(logr.coef_)\n",
    "print(logr.intercept_)\n",
    "print(logr.score(X,y))"
   ]
  },
  {
   "cell_type": "code",
   "execution_count": 31,
   "metadata": {},
   "outputs": [
    {
     "name": "stdout",
     "output_type": "stream",
     "text": [
      "0.1232 Pregnancies\n",
      "0.0352 Glucose\n",
      "-0.0133 BloodPressure\n",
      "0.0006 SkinThickness\n",
      "-0.0012 Insulin\n",
      "0.0897 BMI\n",
      "0.9456 DiabetesPedigreeFunction\n",
      "0.0149 Age\n",
      "[-8.40952187]\n",
      "0.7825520833333334\n"
     ]
    },
    {
     "name": "stderr",
     "output_type": "stream",
     "text": [
      "/Users/johnmaxbarry/anaconda3/lib/python3.7/site-packages/sklearn/linear_model/_logistic.py:1505: UserWarning: Setting penalty='none' will ignore the C and l1_ratio parameters\n",
      "  \"Setting penalty='none' will ignore the C and l1_ratio \"\n"
     ]
    }
   ],
   "source": [
    "# Same result as 'none'\n",
    "logr = LogisticRegression(penalty='none', C=10**8, max_iter=10000)\n",
    "y = diabetes.Outcome\n",
    "X = diabetes.drop(\"Outcome\", axis=1)\n",
    "logr.fit(X, y)\n",
    "\n",
    "for coef, feature in zip(list(logr.coef_[0]), X.columns):\n",
    "    print(round(coef,4), feature)\n",
    "print(logr.intercept_)\n",
    "print(logr.score(X,y))"
   ]
  },
  {
   "cell_type": "code",
   "execution_count": 32,
   "metadata": {},
   "outputs": [
    {
     "name": "stdout",
     "output_type": "stream",
     "text": [
      "0.0134 Pregnancies\n",
      "0.0324 Glucose\n",
      "-0.0055 BloodPressure\n",
      "0.006 SkinThickness\n",
      "-0.0008 Insulin\n",
      "0.0313 BMI\n",
      "0.0012 DiabetesPedigreeFunction\n",
      "0.018 Age\n",
      "[-6.02705282]\n",
      "0.7643229166666666\n"
     ]
    }
   ],
   "source": [
    "# With a high L2 regularization, the coefficients shrink.\n",
    "logr = LogisticRegression(penalty='l2', C=.0001)\n",
    "y = diabetes.Outcome\n",
    "X = diabetes.drop(\"Outcome\", axis=1)\n",
    "logr.fit(X, y)\n",
    "\n",
    "for coef, feature in zip(list(logr.coef_[0]), X.columns):\n",
    "    print(round(coef,4), feature)\n",
    "print(logr.intercept_)\n",
    "print(logr.score(X,y))"
   ]
  },
  {
   "cell_type": "code",
   "execution_count": 33,
   "metadata": {},
   "outputs": [
    {
     "name": "stdout",
     "output_type": "stream",
     "text": [
      "0.0 Pregnancies\n",
      "0.0 Glucose\n",
      "0.0 BloodPressure\n",
      "0.0 SkinThickness\n",
      "0.0 Insulin\n",
      "0.0 BMI\n",
      "0.0 DiabetesPedigreeFunction\n",
      "0.0 Age\n",
      "[0.]\n",
      "0.6510416666666666\n"
     ]
    }
   ],
   "source": [
    "# try with a strongL1. They are all shrunk to zero!\n",
    "logr = LogisticRegression(penalty='l1', C=.0001, solver='liblinear')\n",
    "y = diabetes.Outcome\n",
    "X = diabetes.drop(\"Outcome\", axis=1)\n",
    "logr.fit(X, y)\n",
    "\n",
    "for coef, feature in zip(list(logr.coef_[0]), X.columns):\n",
    "    print(round(coef,4), feature)\n",
    "print(logr.intercept_)\n",
    "print(logr.score(X,y))"
   ]
  },
  {
   "cell_type": "markdown",
   "metadata": {},
   "source": [
    "How do we choose between them? We iterate over possible parameters and judge the success based on our metric of choice.  We will eventually move towards grid search, which will help us be more thorough with our tuning.  For now, we will work through how to tune our C parameter with an Ridge regularization.\n",
    "\n",
    "For now, let's judge on accuracy, which can be accessed via the `score()` method of a trained model.\n"
   ]
  },
  {
   "cell_type": "code",
   "execution_count": 34,
   "metadata": {},
   "outputs": [],
   "source": [
    "# The parameters for C can be anything above 0.  \n",
    "# Set up a list of possible values to try out.\n",
    "# Start with 1000 numbers above 0\n",
    "c_candidates = None\n"
   ]
  },
  {
   "cell_type": "code",
   "execution_count": 35,
   "metadata": {},
   "outputs": [
    {
     "data": {
      "text/plain": [
       "array([1.00e-04, 1.00e+00, 2.00e+00, ..., 9.98e+02, 9.99e+02, 1.00e+03])"
      ]
     },
     "execution_count": 35,
     "metadata": {},
     "output_type": "execute_result"
    }
   ],
   "source": [
    "#__SOLUTION__\n",
    "# The parameters for C can be anything above 0.  \n",
    "# Set up a list of possible values to try out.\n",
    "# Start with numbers above 0 up to 1000\n",
    "c_candidates = np.linspace(1,1000,1000)\n",
    "c_candidates = np.insert(c_candidates, 0, .0001)\n",
    "c_candidates"
   ]
  },
  {
   "cell_type": "code",
   "execution_count": 36,
   "metadata": {},
   "outputs": [],
   "source": [
    "# Split your data into training and test data with a random state of 42 \n",
    "# and a test size of .25\n",
    "from sklearn.model_selection import train_test_split\n",
    "\n",
    "# Your code here"
   ]
  },
  {
   "cell_type": "code",
   "execution_count": 38,
   "metadata": {},
   "outputs": [],
   "source": [
    "#__SOLUTION__\n",
    "# Split your data into training and test data with a random state of 42 \n",
    "# and a test size of .25\n",
    "X = diabetes.drop('Outcome', axis=1)\n",
    "y = diabetes.Outcome\n",
    "X_train, X_test, y_train, y_test = train_test_split(X, y, random_state=42, \n",
    "                                                    test_size=.25)"
   ]
  },
  {
   "cell_type": "markdown",
   "metadata": {},
   "source": [
    "Since we are still getting used to train test split, let's now just put aside the test set and not touch it again for this lesson.\n",
    "\n",
    "We will perform a second train test split on the train set, and hyperparameter tune our C on it."
   ]
  },
  {
   "cell_type": "code",
   "execution_count": 42,
   "metadata": {},
   "outputs": [],
   "source": [
    "X_train, X_val, y_train, y_val = train_test_split(X_train, y_train, random_state=42, \n",
    "                                                    test_size=.25)"
   ]
  },
  {
   "cell_type": "code",
   "execution_count": 43,
   "metadata": {},
   "outputs": [
    {
     "name": "stdout",
     "output_type": "stream",
     "text": [
      "[[-2.57301586e-03  4.15764506e-02 -1.06355703e-02 -4.29656343e-04\n",
      "  -2.11472441e-03  1.03939431e-01  4.91470380e-01  3.00925692e-02]]\n",
      "[-9.52387315]\n",
      "0.7592592592592593\n"
     ]
    }
   ],
   "source": [
    "# Train the no regularization logistic model on the train set, \n",
    "# and return the accuracy as measured on the test\n",
    "\n",
    "logr = LogisticRegression(penalty='l2', C=10**8, max_iter=10000)\n",
    "y = diabetes.Outcome\n",
    "X = diabetes.drop(\"Outcome\", axis=1)\n",
    "logr.fit(X_train, y_train)\n",
    "\n",
    "print(logr.coef_)\n",
    "print(logr.intercept_)\n",
    "print(logr.score(X_val,y_val))"
   ]
  },
  {
   "cell_type": "code",
   "execution_count": 44,
   "metadata": {},
   "outputs": [
    {
     "ename": "ValueError",
     "evalue": "max() arg is an empty sequence",
     "output_type": "error",
     "traceback": [
      "\u001b[0;31m---------------------------------------------------------------------------\u001b[0m",
      "\u001b[0;31mValueError\u001b[0m                                Traceback (most recent call last)",
      "\u001b[0;32m<ipython-input-44-b7eebe9cade7>\u001b[0m in \u001b[0;36m<module>\u001b[0;34m\u001b[0m\n\u001b[1;32m      8\u001b[0m     \u001b[0;32mpass\u001b[0m\u001b[0;34m\u001b[0m\u001b[0;34m\u001b[0m\u001b[0m\n\u001b[1;32m      9\u001b[0m \u001b[0;34m\u001b[0m\u001b[0m\n\u001b[0;32m---> 10\u001b[0;31m \u001b[0mbest_c\u001b[0m \u001b[0;34m=\u001b[0m \u001b[0mmax\u001b[0m\u001b[0;34m(\u001b[0m\u001b[0mc_scores\u001b[0m\u001b[0;34m,\u001b[0m \u001b[0mkey\u001b[0m\u001b[0;34m=\u001b[0m\u001b[0mc_scores\u001b[0m\u001b[0;34m.\u001b[0m\u001b[0mget\u001b[0m\u001b[0;34m)\u001b[0m\u001b[0;34m\u001b[0m\u001b[0;34m\u001b[0m\u001b[0m\n\u001b[0m\u001b[1;32m     11\u001b[0m \u001b[0mbest_c\u001b[0m\u001b[0;34m\u001b[0m\u001b[0;34m\u001b[0m\u001b[0m\n\u001b[1;32m     12\u001b[0m \u001b[0;34m\u001b[0m\u001b[0m\n",
      "\u001b[0;31mValueError\u001b[0m: max() arg is an empty sequence"
     ]
    }
   ],
   "source": [
    "# Create a for loop which runs through all of the possible values of C,\n",
    "# fits the model on the train set, and scores the model on test set.\n",
    "# Add the accuracies into a dictionary or a list, whichever you prefer\n",
    "# Use 'l2'\n",
    "\n",
    "c_scores = {}\n",
    "for c in c_candidates:\n",
    "    pass\n",
    "\n",
    "best_c = max(c_scores, key=c_scores.get)\n",
    "best_c\n",
    "    "
   ]
  },
  {
   "cell_type": "code",
   "execution_count": 45,
   "metadata": {},
   "outputs": [
    {
     "data": {
      "text/plain": [
       "1.0"
      ]
     },
     "execution_count": 45,
     "metadata": {},
     "output_type": "execute_result"
    }
   ],
   "source": [
    "#__SOLUTION__\n",
    "# Create a for loop which runs through all of the possible values of C,\n",
    "# fits the model on the train set, and scores the model on test set.\n",
    "# Add the accuracies into a dictionary or a list, whichever you prefer\n",
    "# Use 'l2'\n",
    "\n",
    "c_scores = {}\n",
    "for c in c_candidates:\n",
    "    regr = LogisticRegression(penalty='l2', C=c, max_iter=10000)\n",
    "    regr.fit(X_train, y_train)\n",
    "    accuracy = regr.score(X_val, y_val)\n",
    "    c_scores[c] = accuracy\n",
    "    \n",
    "# the best accuracy score comes with the highest regularization\n",
    "best_c = max(c_scores, key=c_scores.get)\n",
    "best_c\n",
    "    "
   ]
  },
  {
   "cell_type": "code",
   "execution_count": 46,
   "metadata": {},
   "outputs": [],
   "source": [
    "# Once you have the best C for the range of values between 0 and 1000,\n",
    "# narrow in even further.  Choose a new range of 100 C-values between your best C\n",
    "# and the next closer integer.\n",
    "import math\n",
    "c_candidates = np.linspace(math.floor(best_c)+.01,math.floor(best_c)+1, 100)"
   ]
  },
  {
   "cell_type": "code",
   "execution_count": 47,
   "metadata": {},
   "outputs": [
    {
     "name": "stdout",
     "output_type": "stream",
     "text": [
      "1.4 0.7685185185185185\n"
     ]
    }
   ],
   "source": [
    "#__SOLUTION__\n",
    "c_scores = {}\n",
    "for c in c_candidates:\n",
    "    regr = LogisticRegression(penalty='l2', C=c, max_iter=10000)\n",
    "    regr.fit(X_train, y_train)\n",
    "    accuracy = regr.score(X_val, y_val)\n",
    "    c_scores[c] = accuracy\n",
    "    \n",
    "# the best accuracy score comes with the highest regularization\n",
    "best_c = max(c_scores, key=c_scores.get)\n",
    "print(best_c, c_scores[best_c])"
   ]
  },
  {
   "cell_type": "markdown",
   "metadata": {},
   "source": [
    "We improved our test R^2 from .740 to .745. Not too much gain. \n",
    "Sometimes hyperparameter tuning can have a large effect, sometimes not. \n",
    "Don't rely on hyperparameter tuning to fix your model.  \n",
    "Treat it as a necessary step in the process which if you are lucky, may increase the predictive power of your model.\n",
    "\n",
    "In future lessons, we will use Grid Search to automate our hyperparamater tuning, and make it more thorough.\n"
   ]
  },
  {
   "cell_type": "markdown",
   "metadata": {},
   "source": [
    "## 7. Threshold"
   ]
  },
  {
   "cell_type": "markdown",
   "metadata": {},
   "source": [
    "Because logistic regression calculates the probability of a given class, we can easily change the threshold of what is categorized as a 1 or a 0.   "
   ]
  },
  {
   "cell_type": "markdown",
   "metadata": {},
   "source": [
    "Let's use our best c from above, and use predict_proba() to output probabilities."
   ]
  },
  {
   "cell_type": "code",
   "execution_count": 48,
   "metadata": {
    "collapsed": true,
    "jupyter": {
     "outputs_hidden": true
    }
   },
   "outputs": [
    {
     "name": "stderr",
     "output_type": "stream",
     "text": [
      "/Users/johnmaxbarry/anaconda3/lib/python3.7/site-packages/sklearn/linear_model/_logistic.py:940: ConvergenceWarning: lbfgs failed to converge (status=1):\n",
      "STOP: TOTAL NO. of ITERATIONS REACHED LIMIT.\n",
      "\n",
      "Increase the number of iterations (max_iter) or scale the data as shown in:\n",
      "    https://scikit-learn.org/stable/modules/preprocessing.html\n",
      "Please also refer to the documentation for alternative solver options:\n",
      "    https://scikit-learn.org/stable/modules/linear_model.html#logistic-regression\n",
      "  extra_warning_msg=_LOGISTIC_SOLVER_CONVERGENCE_MSG)\n"
     ]
    },
    {
     "data": {
      "text/plain": [
       "array([[0.79912525, 0.20087475],\n",
       "       [0.75964267, 0.24035733],\n",
       "       [0.84738361, 0.15261639],\n",
       "       [0.89184558, 0.10815442],\n",
       "       [0.50720745, 0.49279255],\n",
       "       [0.6429583 , 0.3570417 ],\n",
       "       [0.98599785, 0.01400215],\n",
       "       [0.42622018, 0.57377982],\n",
       "       [0.39736641, 0.60263359],\n",
       "       [0.20412125, 0.79587875],\n",
       "       [0.79606015, 0.20393985],\n",
       "       [0.08098182, 0.91901818],\n",
       "       [0.58196534, 0.41803466],\n",
       "       [0.80946559, 0.19053441],\n",
       "       [0.93719196, 0.06280804],\n",
       "       [0.66581474, 0.33418526],\n",
       "       [0.86980466, 0.13019534],\n",
       "       [0.93843801, 0.06156199],\n",
       "       [0.09653207, 0.90346793],\n",
       "       [0.34085826, 0.65914174],\n",
       "       [0.79761096, 0.20238904],\n",
       "       [0.92105388, 0.07894612],\n",
       "       [0.61499103, 0.38500897],\n",
       "       [0.89244726, 0.10755274],\n",
       "       [0.51478288, 0.48521712],\n",
       "       [0.08858361, 0.91141639],\n",
       "       [0.88229252, 0.11770748],\n",
       "       [0.96077702, 0.03922298],\n",
       "       [0.69374401, 0.30625599],\n",
       "       [0.90658872, 0.09341128],\n",
       "       [0.06642278, 0.93357722],\n",
       "       [0.13322155, 0.86677845],\n",
       "       [0.15038522, 0.84961478],\n",
       "       [0.14359532, 0.85640468],\n",
       "       [0.43739109, 0.56260891],\n",
       "       [0.3932071 , 0.6067929 ],\n",
       "       [0.02892683, 0.97107317],\n",
       "       [0.7759153 , 0.2240847 ],\n",
       "       [0.61624789, 0.38375211],\n",
       "       [0.21386184, 0.78613816],\n",
       "       [0.94079223, 0.05920777],\n",
       "       [0.43089343, 0.56910657],\n",
       "       [0.51661289, 0.48338711],\n",
       "       [0.78857836, 0.21142164],\n",
       "       [0.97194586, 0.02805414],\n",
       "       [0.47519245, 0.52480755],\n",
       "       [0.57732967, 0.42267033],\n",
       "       [0.80282881, 0.19717119],\n",
       "       [0.77267999, 0.22732001],\n",
       "       [0.04488328, 0.95511672],\n",
       "       [0.94829263, 0.05170737],\n",
       "       [0.44196752, 0.55803248],\n",
       "       [0.29072475, 0.70927525],\n",
       "       [0.69753977, 0.30246023],\n",
       "       [0.84658709, 0.15341291],\n",
       "       [0.9634376 , 0.0365624 ],\n",
       "       [0.19260947, 0.80739053],\n",
       "       [0.99528985, 0.00471015],\n",
       "       [0.61572349, 0.38427651],\n",
       "       [0.17067537, 0.82932463],\n",
       "       [0.2755024 , 0.7244976 ],\n",
       "       [0.59753945, 0.40246055],\n",
       "       [0.84167563, 0.15832437],\n",
       "       [0.91385805, 0.08614195],\n",
       "       [0.90857403, 0.09142597],\n",
       "       [0.26918867, 0.73081133],\n",
       "       [0.95163204, 0.04836796],\n",
       "       [0.20046458, 0.79953542],\n",
       "       [0.95754114, 0.04245886],\n",
       "       [0.22153631, 0.77846369],\n",
       "       [0.38620272, 0.61379728],\n",
       "       [0.93805047, 0.06194953],\n",
       "       [0.87977289, 0.12022711],\n",
       "       [0.85444514, 0.14555486],\n",
       "       [0.91215731, 0.08784269],\n",
       "       [0.54460212, 0.45539788],\n",
       "       [0.8556695 , 0.1443305 ],\n",
       "       [0.91689644, 0.08310356],\n",
       "       [0.84238428, 0.15761572],\n",
       "       [0.71801921, 0.28198079],\n",
       "       [0.30800781, 0.69199219],\n",
       "       [0.84252192, 0.15747808],\n",
       "       [0.94894018, 0.05105982],\n",
       "       [0.50475759, 0.49524241],\n",
       "       [0.72013393, 0.27986607],\n",
       "       [0.10426969, 0.89573031],\n",
       "       [0.08877251, 0.91122749],\n",
       "       [0.72342202, 0.27657798],\n",
       "       [0.88271615, 0.11728385],\n",
       "       [0.90824413, 0.09175587],\n",
       "       [0.93379507, 0.06620493],\n",
       "       [0.75099792, 0.24900208],\n",
       "       [0.99635463, 0.00364537],\n",
       "       [0.52361862, 0.47638138],\n",
       "       [0.47488009, 0.52511991],\n",
       "       [0.29312492, 0.70687508],\n",
       "       [0.72100249, 0.27899751],\n",
       "       [0.89527414, 0.10472586],\n",
       "       [0.32949804, 0.67050196],\n",
       "       [0.94918627, 0.05081373],\n",
       "       [0.20723907, 0.79276093],\n",
       "       [0.93345021, 0.06654979],\n",
       "       [0.31340648, 0.68659352],\n",
       "       [0.40442911, 0.59557089],\n",
       "       [0.32286864, 0.67713136],\n",
       "       [0.74305076, 0.25694924],\n",
       "       [0.72636349, 0.27363651],\n",
       "       [0.2457509 , 0.7542491 ],\n",
       "       [0.93126857, 0.06873143],\n",
       "       [0.64399684, 0.35600316],\n",
       "       [0.91181031, 0.08818969],\n",
       "       [0.49746042, 0.50253958],\n",
       "       [0.98563054, 0.01436946],\n",
       "       [0.21837879, 0.78162121],\n",
       "       [0.81034247, 0.18965753],\n",
       "       [0.62081987, 0.37918013],\n",
       "       [0.19685189, 0.80314811],\n",
       "       [0.78232883, 0.21767117],\n",
       "       [0.93797494, 0.06202506],\n",
       "       [0.49971524, 0.50028476],\n",
       "       [0.92100678, 0.07899322],\n",
       "       [0.74363521, 0.25636479],\n",
       "       [0.7870174 , 0.2129826 ],\n",
       "       [0.95212794, 0.04787206],\n",
       "       [0.59157948, 0.40842052],\n",
       "       [0.7152243 , 0.2847757 ],\n",
       "       [0.97380908, 0.02619092],\n",
       "       [0.25409181, 0.74590819],\n",
       "       [0.05106005, 0.94893995],\n",
       "       [0.19630515, 0.80369485],\n",
       "       [0.27259148, 0.72740852],\n",
       "       [0.22232317, 0.77767683],\n",
       "       [0.9244404 , 0.0755596 ],\n",
       "       [0.63554516, 0.36445484],\n",
       "       [0.16461266, 0.83538734],\n",
       "       [0.86623774, 0.13376226],\n",
       "       [0.83337585, 0.16662415],\n",
       "       [0.14306475, 0.85693525],\n",
       "       [0.24482972, 0.75517028],\n",
       "       [0.98796424, 0.01203576],\n",
       "       [0.88840766, 0.11159234],\n",
       "       [0.95477884, 0.04522116],\n",
       "       [0.70184916, 0.29815084],\n",
       "       [0.56146609, 0.43853391],\n",
       "       [0.8484922 , 0.1515078 ],\n",
       "       [0.80769616, 0.19230384],\n",
       "       [0.92890826, 0.07109174],\n",
       "       [0.97855356, 0.02144644],\n",
       "       [0.56958619, 0.43041381],\n",
       "       [0.22681423, 0.77318577],\n",
       "       [0.93322907, 0.06677093],\n",
       "       [0.64465586, 0.35534414],\n",
       "       [0.71137745, 0.28862255],\n",
       "       [0.89982494, 0.10017506],\n",
       "       [0.99464265, 0.00535735],\n",
       "       [0.74284386, 0.25715614],\n",
       "       [0.64216291, 0.35783709],\n",
       "       [0.27682878, 0.72317122],\n",
       "       [0.28985978, 0.71014022],\n",
       "       [0.82282632, 0.17717368],\n",
       "       [0.4435381 , 0.5564619 ],\n",
       "       [0.38230322, 0.61769678],\n",
       "       [0.80414227, 0.19585773],\n",
       "       [0.98181586, 0.01818414],\n",
       "       [0.87798482, 0.12201518],\n",
       "       [0.0920669 , 0.9079331 ],\n",
       "       [0.9471322 , 0.0528678 ],\n",
       "       [0.63277546, 0.36722454],\n",
       "       [0.13825265, 0.86174735],\n",
       "       [0.58933667, 0.41066333],\n",
       "       [0.34643623, 0.65356377],\n",
       "       [0.85593702, 0.14406298],\n",
       "       [0.62804248, 0.37195752],\n",
       "       [0.2880839 , 0.7119161 ],\n",
       "       [0.43039835, 0.56960165],\n",
       "       [0.91341189, 0.08658811],\n",
       "       [0.65025185, 0.34974815],\n",
       "       [0.84348202, 0.15651798],\n",
       "       [0.84757357, 0.15242643],\n",
       "       [0.64893232, 0.35106768],\n",
       "       [0.57611574, 0.42388426],\n",
       "       [0.33257774, 0.66742226],\n",
       "       [0.66392549, 0.33607451],\n",
       "       [0.15812911, 0.84187089],\n",
       "       [0.43638191, 0.56361809],\n",
       "       [0.89995487, 0.10004513],\n",
       "       [0.9579845 , 0.0420155 ],\n",
       "       [0.88778985, 0.11221015],\n",
       "       [0.1120891 , 0.8879109 ],\n",
       "       [0.70343252, 0.29656748],\n",
       "       [0.94143569, 0.05856431],\n",
       "       [0.9011293 , 0.0988707 ]])"
      ]
     },
     "execution_count": 48,
     "metadata": {},
     "output_type": "execute_result"
    }
   ],
   "source": [
    "regr = LogisticRegression(penalty='l2', C=c)\n",
    "regr.fit(X_train, y_train)\n",
    "probas = regr.predict_proba(X_test)\n",
    "probas"
   ]
  },
  {
   "cell_type": "code",
   "execution_count": 50,
   "metadata": {},
   "outputs": [
    {
     "data": {
      "text/plain": [
       "array([0, 0, 1, 0, 0, 0, 0, 0, 1, 0, 1, 1, 0, 0, 0, 0, 0, 1, 1, 0, 1, 0,\n",
       "       0, 0, 1, 0, 0, 1, 0, 1, 0, 0, 0, 0, 0, 0, 0, 0, 0, 0, 1, 0, 0, 0,\n",
       "       1, 1, 0, 0, 0, 1, 1, 1, 0, 0, 0, 1, 0, 0, 0, 0, 1, 1, 0, 0, 0, 0,\n",
       "       0, 0, 0, 0, 0, 0, 0, 0, 0, 0, 0, 0, 1, 1, 0, 0, 0, 0, 1, 0, 1, 1,\n",
       "       0, 0, 1, 0, 0, 1, 0, 0, 0, 1, 1, 1, 0, 0, 0, 1, 0, 1, 0, 0])"
      ]
     },
     "execution_count": 50,
     "metadata": {},
     "output_type": "execute_result"
    }
   ],
   "source": [
    "y_hat = regr.predict(X_val)\n",
    "y_hat"
   ]
  },
  {
   "cell_type": "markdown",
   "metadata": {},
   "source": [
    "Compare the output of predict and predict proba. Write out below how the output of predict_proba is related to the predict output.  "
   ]
  },
  {
   "cell_type": "code",
   "execution_count": 51,
   "metadata": {},
   "outputs": [
    {
     "data": {
      "text/plain": [
       "'The default threshold is .5. Any value in the predict_proba first column above .5 is categorized as a 0. \\nAny value above .5 in the second column is categorized as 1.'"
      ]
     },
     "execution_count": 51,
     "metadata": {},
     "output_type": "execute_result"
    }
   ],
   "source": [
    "#__SOLUTION__\n",
    "\"\"\"The default threshold is .5. Any value in the predict_proba first column above .5 is categorized as a 0. \n",
    "Any value above .5 in the second column is categorized as 1.\"\"\""
   ]
  },
  {
   "cell_type": "markdown",
   "metadata": {},
   "source": [
    "Now, isolate one of the columns of predict_proba, and create an area of booleans which returns True if the proba is above .4"
   ]
  },
  {
   "cell_type": "code",
   "execution_count": 333,
   "metadata": {},
   "outputs": [],
   "source": [
    "# Your code here\n",
    "lower_threshold = None"
   ]
  },
  {
   "cell_type": "markdown",
   "metadata": {},
   "source": [
    "Then, use the astype method to convert the array to integers: True will become 1, and False will become 0"
   ]
  },
  {
   "cell_type": "code",
   "execution_count": 334,
   "metadata": {},
   "outputs": [],
   "source": [
    "# Your code here\n",
    "\n",
    "predictions = None"
   ]
  },
  {
   "cell_type": "markdown",
   "metadata": {},
   "source": [
    "While the accuracy of the model will fall by increasing the threshold, we are protecting against a certain type of error. What type of error are we reducing? Think back to Type 1 and Type 2 errors. Why might protecting against such errors be smart in a model that deals with a life-threatening medical condition?\n"
   ]
  },
  {
   "cell_type": "code",
   "execution_count": 335,
   "metadata": {},
   "outputs": [],
   "source": [
    "# Your answer here"
   ]
  },
  {
   "cell_type": "code",
   "execution_count": 72,
   "metadata": {},
   "outputs": [
    {
     "data": {
      "text/plain": [
       "'By increasing the threshold, we are protecting against false negatives.\\nIn the case of heart disease, we should err on the side of caution.  We would rather have a false positive \\nmistake, since the individual would still be flagged for intervention. A false negative could result in death'"
      ]
     },
     "execution_count": 72,
     "metadata": {},
     "output_type": "execute_result"
    }
   ],
   "source": [
    "#__SOLUTION__\n",
    "higher_threshold = probas[:,1] > .7\n",
    "y_hat_lower = higher_threshold.astype(int)\n",
    "\n",
    "\"\"\"By increasing the threshold, we are protecting against false negatives.\n",
    "In the case of heart disease, we should err on the side of caution.  We would rather have a false positive \n",
    "mistake, since the individual would still be flagged for intervention. A false negative could result in death\"\"\"\n"
   ]
  },
  {
   "cell_type": "markdown",
   "metadata": {},
   "source": [
    "# 8. Assumptions of Logistic Regression\n",
    "\n",
    "Logistic regression does not make many of the key assumptions of linear regression and general linear models that are based on ordinary least squares algorithms – particularly regarding linearity, normality, and homoscedasticity.\n",
    "\n",
    "First, logistic regression does not require a linear relationship between the dependent and independent variables.  Second, the error terms (residuals) do not need to be normally distributed.  Third, homoscedasticity is not required.  \n",
    "\n",
    "**The following assumptions still apply:**\n",
    "\n",
    "1.  Binary logistic regression requires the dependent variable to be binary and ordinal logistic regression requires the dependent variable to be ordinal.\n",
    "\n",
    "2. Logistic regression requires the observations to be independent of each other.  In other words, the observations should not come from repeated measurements or matched data.\n",
    "\n",
    "3. Logistic regression requires there to be little or no multicollinearity among the independent variables.  This means that the independent variables should not be too highly correlated with each other.\n",
    "\n",
    "4. Logistic regression assumes linearity of independent variables and log odds.  although this analysis does not require the dependent and independent variables to be related linearly, it requires that the independent variables are linearly related to the log odds.\n",
    "\n",
    "5. Logistic regression typically requires a large sample size.  A general guideline is that you need at minimum of 10 cases with the least frequent outcome for each independent variable in your model. For example, if you have 5 independent variables and the expected probability of your least frequent outcome is .10, then you would need a minimum sample size of 500 (10*5 / .10)."
   ]
  },
  {
   "cell_type": "code",
   "execution_count": null,
   "metadata": {},
   "outputs": [],
   "source": []
  }
 ],
 "metadata": {
  "kernelspec": {
   "display_name": "Python 3",
   "language": "python",
   "name": "python3"
  },
  "language_info": {
   "codemirror_mode": {
    "name": "ipython",
    "version": 3
   },
   "file_extension": ".py",
   "mimetype": "text/x-python",
   "name": "python",
   "nbconvert_exporter": "python",
   "pygments_lexer": "ipython3",
   "version": "3.7.3"
  }
 },
 "nbformat": 4,
 "nbformat_minor": 4
}
