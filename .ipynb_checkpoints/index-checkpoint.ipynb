{
 "cells": [
  {
   "cell_type": "markdown",
   "metadata": {},
   "source": [
    "# Logistic Regression"
   ]
  },
  {
   "cell_type": "markdown",
   "metadata": {
    "slideshow": {
     "slide_type": "slide"
    }
   },
   "source": [
    "## Learning goals\n",
    "\n",
    "You will be able to:\n",
    "1. Describe the need for logistic regression\n",
    "2. Explore how the sigmoid function \"links\" the linear equation to a probabilistic model\n",
    "3. Explain the connection of logodds to the linear model\n",
    "4. Differentiate between the new type of loss function and OLS\n",
    "5. Explore the C (inverse regularization) paramater and hyperparameter tune"
   ]
  },
  {
   "cell_type": "markdown",
   "metadata": {},
   "source": [
    "## 1. Describe the need for logistic regression"
   ]
  },
  {
   "cell_type": "markdown",
   "metadata": {
    "slideshow": {
     "slide_type": "slide"
    }
   },
   "source": [
    "## Linear to Logistic regression\n",
    "![img](img/linear_vs_logistic_regression.jpg)"
   ]
  },
  {
   "cell_type": "markdown",
   "metadata": {},
   "source": [
    "For linear regression, we use a set of features to predict a **continuous** target variable.  We have a set of assumptions, primary amongst them a fundamentally linear relationship between independent and dependent variables.  Linear Regression optimizes parameters using a cost function (OLS or gradient descent) which calculates the difference between predicted values and true values of a dataset.\n",
    "\n",
    "But what if, instead of predicting a continous outcome, we want to predict a binary outcome?  How do we translate the linear equation to output a binary prediction?  One idea would be to simply set a threshold where any prediction below a certain value is categorized as 0 and above is categorized as 1.\n",
    "\n",
    "What problems can we forsee in this approach?\n",
    "\n",
    "![talk amongst yourselves](https://media.giphy.com/media/3o6Zt44rlujPePNVVC/giphy.gif)\n",
    "\n",
    "\n"
   ]
  },
  {
   "cell_type": "code",
   "execution_count": 63,
   "metadata": {},
   "outputs": [],
   "source": [
    "# Results of discussion"
   ]
  },
  {
   "cell_type": "markdown",
   "metadata": {},
   "source": [
    "# 2. Explore how the sigmoid function \"links\" the linear equation to a probabilistic model"
   ]
  },
  {
   "cell_type": "markdown",
   "metadata": {},
   "source": [
    "The goal of logistic regression is to model a conditional probability.  For the binary case, it is the probability of a 0 or 1 based on a set of independent features X.\n",
    "\n",
    "$\\Large P(G = 0|X = x)$  \n",
    "\n",
    "$\\Large P(G = 1|X = x)$"
   ]
  },
  {
   "cell_type": "markdown",
   "metadata": {},
   "source": [
    "In order to realize such a goal, we have to somehow translate our linear output into a probability.  As we know, probability takes on a value between 0 and 1,  whereas the linear equation can output any value from $-\\infty$ to $\\infty$.\n",
    "\n",
    "In comes the sigmoid function to the rescue.\n",
    "\n",
    "$$ \\displaystyle \\frac{1}{1+e^{-z}}$$"
   ]
  },
  {
   "cell_type": "code",
   "execution_count": 4,
   "metadata": {},
   "outputs": [],
   "source": [
    "import numpy as np\n",
    "def sigmoid(any_number):\n",
    "    \n",
    "    \"Input any number, return a number between 0 and 1\"\n",
    "    \n",
    "    return 1/(1+ np.e**(-any_number))\n",
    "    "
   ]
  },
  {
   "cell_type": "markdown",
   "metadata": {},
   "source": [
    "In your head, work through the approximate output of the function for:\n",
    "  - z = 0\n",
    "  - z = 1000\n",
    "  - z = -1000\n",
    " "
   ]
  },
  {
   "cell_type": "code",
   "execution_count": 5,
   "metadata": {},
   "outputs": [
    {
     "ename": "TypeError",
     "evalue": "sigmoid() missing 1 required positional argument: 'any_number'",
     "output_type": "error",
     "traceback": [
      "\u001b[0;31m---------------------------------------------------------------------------\u001b[0m",
      "\u001b[0;31mTypeError\u001b[0m                                 Traceback (most recent call last)",
      "\u001b[0;32m<ipython-input-5-32c3939704e4>\u001b[0m in \u001b[0;36m<module>\u001b[0;34m\u001b[0m\n\u001b[1;32m      1\u001b[0m \u001b[0;31m# Now, input numbers into the function to see that it is functioning correcting.\u001b[0m\u001b[0;34m\u001b[0m\u001b[0;34m\u001b[0m\u001b[0;34m\u001b[0m\u001b[0m\n\u001b[1;32m      2\u001b[0m \u001b[0;34m\u001b[0m\u001b[0m\n\u001b[0;32m----> 3\u001b[0;31m \u001b[0msigmoid\u001b[0m\u001b[0;34m(\u001b[0m\u001b[0;34m)\u001b[0m\u001b[0;34m\u001b[0m\u001b[0;34m\u001b[0m\u001b[0m\n\u001b[0m",
      "\u001b[0;31mTypeError\u001b[0m: sigmoid() missing 1 required positional argument: 'any_number'"
     ]
    }
   ],
   "source": [
    "# Now, input numbers into the function to see that it is functioning correcting.\n",
    "\n",
    "sigmoid()"
   ]
  },
  {
   "cell_type": "markdown",
   "metadata": {},
   "source": [
    "The sigmoid gives us an s-shaped output, shown below:\n",
    "\n",
    "![sigmoid](img/SigmoidFunction_701.gif)"
   ]
  },
  {
   "cell_type": "markdown",
   "metadata": {},
   "source": [
    "Notice how the curve crosses the y-axis at .5, and how the values are between 0 and 1."
   ]
  },
  {
   "cell_type": "markdown",
   "metadata": {},
   "source": [
    "## 3. Explain the connection of logodds to the linear model"
   ]
  },
  {
   "cell_type": "markdown",
   "metadata": {},
   "source": [
    "Now for the fun part.  The input of the sigmoid is our trusty old linear equation.\n",
    "\n",
    "$$ \\hat y = \\hat\\beta_0 + \\hat\\beta_1 x_1 + \\hat\\beta_2, x_2 +\\ldots + \\hat\\beta_n x_n $$\n",
    "\n",
    "The linear equation is passed into the sigmoid function to produce a number between 0 and 1\n",
    "$$\\displaystyle \\frac{1}{1+e^{-(\\hat \\beta_o+\\hat \\beta_1 x_1 + \\hat \\beta_2 x_2...\\hat\\beta_n x_n)}}$$"
   ]
  },
  {
   "cell_type": "markdown",
   "metadata": {},
   "source": [
    "Remember, the goal of logistic regression is to model the conditional of a class using a transformation of the linear equation.\n",
    "\n",
    "In other words:\n",
    "\n",
    "$$\\Large P(G = 1|X = x_1, x_2...x_n) = \\frac{1}{1+e^{-(\\hat \\beta_o+\\hat \\beta_1 x_1 + \\hat \\beta_2 x_2...\\hat\\beta_n x_n)}}$$"
   ]
  },
  {
   "cell_type": "markdown",
   "metadata": {},
   "source": [
    "Now, with some arithmetic:\n",
    "\n",
    "You can show that, by multiplying both numerator and denominator by $e^{(\\hat \\beta_o+\\hat \\beta_1 x_1 + \\hat \\beta_2 x_2...\\hat\\beta_n x_n)}$\n",
    "\n",
    "\n",
    "$$ \\Large P(G = 1|X = x) = \\displaystyle \\frac{e^{\\hat \\beta_o+\\hat \\beta_1 x_1 + \\hat \\beta_2 x_2...\\hat\\beta_n x_n}}{1+e^{\\hat \\beta_o+\\hat \\beta_1 x_1 + \\hat \\beta_2 x_2...\\hat\\beta_n x_n}}$$\n",
    "\n",
    "As a result, you can compute:\n",
    "\n",
    "$$ \\Large P(G = 0|X =x) = 1- \\displaystyle \\frac{e^{\\hat \\beta_o+\\hat \\beta_1 x_1 + \\hat \\beta_2 x_2...\\hat\\beta_n x_n}}{1+e^{\\hat \\beta_o+\\hat \\beta_1 x_1 + \\hat \\beta_2 x_2...\\hat\\beta_n x_n}}= \\displaystyle \\frac{1}{1+e^{\\hat \\beta_o+\\hat \\beta_1 x_1 + \\hat \\beta_2 x_2...\\hat\\beta_n x_n}}$$\n"
   ]
  },
  {
   "cell_type": "markdown",
   "metadata": {},
   "source": [
    "#### Odds ratio\n",
    "\n",
    "This doesn't seem to be very spectacular, but combining these two results leads to an easy interpretation of the model parameters, triggered by the *odds*, which equal p/(1-p):\n",
    "\n",
    "$$ \\Large \\dfrac{ P(G = 1|X = x) }{P(G = 0|X =x)} = e^{\\hat \\beta_o+\\hat \\beta_1 x_1 + \\hat \\beta_2 x_2...\\hat\\beta_n x_n} $$\n",
    "\n",
    "This expression can be interpreted as the *odds in favor of class 1*.    \n",
    "    "
   ]
  },
  {
   "cell_type": "markdown",
   "metadata": {},
   "source": [
    "Taking the log of both sides leads to:\n",
    "<br><br>\n",
    "    $\\ln{\\dfrac{ P(G = 1|X = x) }{P(G = 0|X =x)}} = \\beta_0 + \\beta_1*X_1 + \\beta_2*X_2...\\beta_n*X_n$\n",
    "    \n",
    "Here me can see why we call it logisitic regression.\n",
    "\n",
    "Our linear function calculates the log of the probability we predict 1, divided by the probability of predicting 0.  In other words, the linear equation is calculating the **log of the odds** that we predict a class of 1.\n",
    "    "
   ]
  },
  {
   "cell_type": "markdown",
   "metadata": {},
   "source": [
    "## Generalized Linear Model\n",
    "The strategy is to *generalize* the notion of linear regression; regression will become a special case. In particular, we'll keep the idea of the regression best-fit line, but now **we'll allow the model to be constructed from the dependent variable through some (non-trivial) function of the linear predictor**. \n",
    "This function is standardly called the **link function**. \n",
    "\n",
    "The equation from above: \n",
    "$\\large\\ln\\left(\\frac{p}{1 - p}\\right) = \\beta_0 + \\beta_1x_1 + ... + \\beta_nx_n$\n",
    "<br>\n",
    "\n",
    "The characteristic link function is this logit function."
   ]
  },
  {
   "cell_type": "markdown",
   "metadata": {},
   "source": [
    "# Decision Boundary\n",
    "\n",
    "Logistic regression is a parametric, discriminative model.  \n",
    "In other words, its decisions are made via trained parameters: our beta coefficients. And the hyperplane that these coefficients creates defines a boundary by which we can discriminate between the classes.    \n",
    "\n",
    "![](img/decision_boundary_1.jpg)\n",
    "![](img/decision_boundary_2.jpg)"
   ]
  },
  {
   "cell_type": "markdown",
   "metadata": {},
   "source": [
    "## Pair Program: Created Income Data"
   ]
  },
  {
   "cell_type": "markdown",
   "metadata": {},
   "source": [
    "Let's manufacture some data created from a linear relationship between age and income, with some normally distributed noise."
   ]
  },
  {
   "cell_type": "code",
   "execution_count": 301,
   "metadata": {},
   "outputs": [],
   "source": [
    "# create data\n",
    "\n",
    "import pandas as pd\n",
    "import numpy as np\n",
    "import matplotlib.pyplot as plt\n",
    "\n",
    "np.random.seed(1234)\n",
    "\n",
    "age = np.random.uniform(18, 65, 100)\n",
    "income = np.random.normal(age/10, 0.5)\n",
    "age = age.reshape(-1,1)"
   ]
  },
  {
   "cell_type": "code",
   "execution_count": 302,
   "metadata": {},
   "outputs": [
    {
     "data": {
      "image/png": "[encoded data removed]",
      "text/plain": [
       "<Figure size 576x432 with 1 Axes>"
      ]
     },
     "metadata": {
      "needs_background": "light"
     },
     "output_type": "display_data"
    }
   ],
   "source": [
    "fig = plt.figure(figsize=(8,6))\n",
    "fig.suptitle('age vs income', fontsize=16)\n",
    "plt.scatter(age, income)\n",
    "plt.xlabel(\"age\", fontsize=14)\n",
    "plt.ylabel(\"monthly income\", fontsize=14)\n",
    "plt.show()"
   ]
  },
  {
   "cell_type": "code",
   "execution_count": 303,
   "metadata": {},
   "outputs": [
    {
     "data": {
      "text/plain": [
       "array([False,  True, False,  True,  True, False, False,  True,  True,\n",
       "        True, False,  True,  True,  True, False,  True,  True, False,\n",
       "        True,  True, False,  True, False, False,  True,  True, False,\n",
       "        True, False,  True,  True, False,  True, False,  True,  True,\n",
       "       False,  True, False,  True, False, False, False,  True,  True,\n",
       "        True, False,  True, False, False, False,  True, False, False,\n",
       "        True,  True,  True,  True,  True,  True, False,  True, False,\n",
       "       False, False, False, False,  True, False, False,  True,  True,\n",
       "       False, False, False,  True, False, False, False, False,  True,\n",
       "        True,  True,  True,  True, False,  True,  True,  True, False,\n",
       "       False,  True, False,  True, False, False,  True,  True, False,\n",
       "        True])"
      ]
     },
     "execution_count": 303,
     "metadata": {},
     "output_type": "execute_result"
    }
   ],
   "source": [
    "# Then convert this data to a binary\n",
    "\n",
    "income_bin = income > 4\n",
    "income_bin"
   ]
  },
  {
   "cell_type": "code",
   "execution_count": 304,
   "metadata": {},
   "outputs": [
    {
     "data": {
      "image/png": "[encoded data removed]",
      "text/plain": [
       "<Figure size 576x432 with 1 Axes>"
      ]
     },
     "metadata": {
      "needs_background": "light"
     },
     "output_type": "display_data"
    }
   ],
   "source": [
    "fig = plt.figure(figsize=(8,6))\n",
    "fig.suptitle('age vs binary income', fontsize=16)\n",
    "plt.scatter(age, income_bin)\n",
    "plt.xlabel(\"age\", fontsize=14)\n",
    "plt.ylabel(\"monthly income (> or < 4000)\", fontsize=14)\n",
    "plt.show()"
   ]
  },
  {
   "cell_type": "markdown",
   "metadata": {},
   "source": [
    "We could fit a linear regression model to this, but the line doesn't capture the shape of the data well."
   ]
  },
  {
   "cell_type": "code",
   "execution_count": 305,
   "metadata": {},
   "outputs": [],
   "source": [
    "from sklearn.linear_model import LinearRegression\n",
    "\n",
    "# create linear regression object\n",
    "lin_reg = LinearRegression()\n",
    "lin_reg.fit(age, income_bin)\n",
    "# store the coefficients\n",
    "coef = lin_reg.coef_\n",
    "interc = lin_reg.intercept_\n",
    "# create the line\n",
    "lin_income = (interc + age * coef)"
   ]
  },
  {
   "cell_type": "code",
   "execution_count": 306,
   "metadata": {},
   "outputs": [
    {
     "data": {
      "image/png": "[encoded data removed]",
      "text/plain": [
       "<Figure size 576x432 with 1 Axes>"
      ]
     },
     "metadata": {
      "needs_background": "light"
     },
     "output_type": "display_data"
    }
   ],
   "source": [
    "fig = plt.figure(figsize=(8,6))\n",
    "fig.suptitle('linear regression', fontsize=16)\n",
    "plt.scatter(age, income_bin)\n",
    "plt.xlabel(\"age\", fontsize=14)\n",
    "plt.ylabel(\"monthly income\", fontsize=14)\n",
    "plt.plot(age, lin_income, c = \"black\")\n",
    "plt.show()"
   ]
  },
  {
   "cell_type": "markdown",
   "metadata": {},
   "source": [
    "Logistic Regression is fit much the same way as linear regression:"
   ]
  },
  {
   "cell_type": "code",
   "execution_count": 307,
   "metadata": {},
   "outputs": [
    {
     "data": {
      "text/plain": [
       "LogisticRegression(C=1.0, class_weight=None, dual=False, fit_intercept=True,\n",
       "                   intercept_scaling=1, l1_ratio=None, max_iter=100,\n",
       "                   multi_class='auto', n_jobs=None, penalty='l2',\n",
       "                   random_state=None, solver='lbfgs', tol=0.0001, verbose=0,\n",
       "                   warm_start=False)"
      ]
     },
     "execution_count": 307,
     "metadata": {},
     "output_type": "execute_result"
    }
   ],
   "source": [
    "# Create logistic regression object\n",
    "regr = LogisticRegression()\n",
    "# Train the model using the training sets\n",
    "regr.fit(age, income_bin)"
   ]
  },
  {
   "cell_type": "markdown",
   "metadata": {},
   "source": [
    "The trained object comes with a coef_ parameter which stores the $\\beta$s and an intercept_ paramater. These parameters can be combined to create the linear equation.\n",
    "\n",
    "### Now, in pairs: \n",
    "  1. create an array which is the result of computing the linear equation. That represents the log odds.\n",
    "  2. Pass those results into the sigmoid function defined above.\n",
    "  \n",
    "Along with the predict method, the regr object comes with the predict_proba() method, which outputs probabities associated with each class.\n",
    "\n",
    "  3. As a check, make sure that the output of the sigmoid function matches the probabilities output by  `regr.predict_proba(age)`"
   ]
  },
  {
   "cell_type": "code",
   "execution_count": 308,
   "metadata": {
    "collapsed": true,
    "jupyter": {
     "outputs_hidden": true
    }
   },
   "outputs": [
    {
     "data": {
      "text/plain": [
       "[array([2.23611783e-05]),\n",
       " array([0.97026438]),\n",
       " array([0.06962443]),\n",
       " array([0.99985897]),\n",
       " array([0.99983159]),\n",
       " array([0.00032357]),\n",
       " array([0.0003676]),\n",
       " array([0.99991816]),\n",
       " array([0.99999953]),\n",
       " array([0.99999288]),\n",
       " array([0.00534339]),\n",
       " array([0.37589488]),\n",
       " array([0.99596064]),\n",
       " array([0.99845536]),\n",
       " array([0.0080285]),\n",
       " array([0.81417651]),\n",
       " array([0.39217428]),\n",
       " array([6.38126685e-08]),\n",
       " array([0.99978685]),\n",
       " array([0.99999429]),\n",
       " array([0.00673598]),\n",
       " array([0.96317144]),\n",
       " array([4.86323987e-07]),\n",
       " array([0.00766249]),\n",
       " array([0.99999892]),\n",
       " array([0.98845648]),\n",
       " array([0.01929754]),\n",
       " array([0.9998738]),\n",
       " array([0.00138955]),\n",
       " array([0.84617412]),\n",
       " array([0.99999108]),\n",
       " array([0.06637792]),\n",
       " array([0.9999189]),\n",
       " array([4.63339003e-06]),\n",
       " array([0.99796085]),\n",
       " array([0.99798223]),\n",
       " array([5.49417759e-05]),\n",
       " array([0.99999858]),\n",
       " array([0.07965762]),\n",
       " array([0.99999763]),\n",
       " array([2.91074578e-07]),\n",
       " array([1.76182058e-05]),\n",
       " array([1.93072168e-07]),\n",
       " array([0.99464703]),\n",
       " array([0.92951589]),\n",
       " array([0.63603166]),\n",
       " array([1.69048274e-07]),\n",
       " array([0.81535501]),\n",
       " array([0.00211962]),\n",
       " array([0.39126059]),\n",
       " array([1.62042433e-06]),\n",
       " array([0.95228335]),\n",
       " array([0.83670346]),\n",
       " array([5.06565353e-08]),\n",
       " array([0.96548991]),\n",
       " array([0.99999784]),\n",
       " array([0.99988105]),\n",
       " array([0.99999985]),\n",
       " array([0.99999954]),\n",
       " array([0.99988656]),\n",
       " array([0.00049103]),\n",
       " array([0.97282165]),\n",
       " array([0.22064719]),\n",
       " array([2.56439344e-05]),\n",
       " array([0.01190353]),\n",
       " array([2.39350318e-07]),\n",
       " array([0.10587276]),\n",
       " array([0.99999978]),\n",
       " array([2.41050059e-06]),\n",
       " array([2.0739717e-06]),\n",
       " array([0.99933996]),\n",
       " array([0.9119718]),\n",
       " array([0.18620209]),\n",
       " array([1.38477631e-06]),\n",
       " array([7.74734808e-05]),\n",
       " array([0.99999677]),\n",
       " array([0.03612978]),\n",
       " array([0.65519552]),\n",
       " array([4.9737341e-08]),\n",
       " array([0.00081525]),\n",
       " array([0.0678634]),\n",
       " array([0.9591806]),\n",
       " array([0.99999823]),\n",
       " array([0.97352721]),\n",
       " array([0.99807408]),\n",
       " array([5.65912259e-06]),\n",
       " array([0.99948514]),\n",
       " array([0.99996868]),\n",
       " array([0.97953076]),\n",
       " array([0.07087774]),\n",
       " array([6.19383897e-06]),\n",
       " array([0.84750359]),\n",
       " array([0.59641196]),\n",
       " array([0.99999941]),\n",
       " array([0.23375548]),\n",
       " array([0.38806785]),\n",
       " array([0.66279917]),\n",
       " array([0.99995378]),\n",
       " array([2.66344804e-07]),\n",
       " array([0.99359841])]"
      ]
     },
     "execution_count": 308,
     "metadata": {},
     "output_type": "execute_result"
    }
   ],
   "source": [
    "#__SOLUTION__\n",
    "\n",
    "# store the coefficients\n",
    "coef = regr.coef_\n",
    "interc = regr.intercept_\n",
    "# create the linear predictor\n",
    "log_odds= (age * coef + interc)\n",
    "\n",
    "probs = [sigmoid(odd) for odd in log_odds]\n",
    "probs"
   ]
  },
  {
   "cell_type": "markdown",
   "metadata": {},
   "source": [
    "#### Interpretting coefficients\n",
    "\n",
    "This result, in combination with mathematical properties of exponential functions, leads to the fact that, applied to our example:\n",
    "\n",
    "if *age* goes up by 1, the odds are multiplied by $e^{\\beta_1}$"
   ]
  },
  {
   "cell_type": "code",
   "execution_count": 317,
   "metadata": {},
   "outputs": [
    {
     "name": "stdout",
     "output_type": "stream",
     "text": [
      "As age goes up by 1, the odds of having a salary about 40k goes up by \n",
      "              2.0164407557970443\n"
     ]
    }
   ],
   "source": [
    "print(f\"\"\"As age goes up by 1, the odds of having a salary about 40k goes up by \n",
    "              {np.e**(regr.coef_)[0][0]}\"\"\")"
   ]
  },
  {
   "cell_type": "markdown",
   "metadata": {},
   "source": [
    "In our example, there is a positive relationship between age and income, resulting in a positive $\\beta_1 > 0$, so $e^{\\beta_1}>1$, and the odds will increase as *age* increases."
   ]
  },
  {
   "cell_type": "markdown",
   "metadata": {},
   "source": [
    "# 4. Differentiate between the new type of loss function and OLS"
   ]
  },
  {
   "cell_type": "markdown",
   "metadata": {},
   "source": [
    "Ordinary least squares does not make sense with regards to odds and binary outcomes.  The odds of the true value, 1, equals 1/(1-1). Instead of OLS, we frame the discussion as likelihood.  What is the likelihood that we see the labels given the features and the hypothesis. \n",
    "\n",
    "To maximize likelihood, we need to choose a probability distribution.  In this case, since the labels are binary, we use the Bernouli distribution. The likelihood equation for the Bernouli distribution is:\n",
    "\n",
    "$ Likelihood=\\prod\\limits_{i=0}^N p_i^{y_i}(1-p_i)^{1-y_i}$\n",
    "\n",
    "Taking the log of both sides leads to the log_likelihood equation:\n",
    "\n",
    "$loglikelihood = \\sum\\limits_{i=1}^N y_i\\log{p_i} + (1-y_i)\\log(1-p_i) $\n",
    "\n",
    "The goal of MLE is to maximize log-likelihood\n",
    "\n",
    "\n",
    "\n",
    "![Maximum Likelihood](img/MLE.png)\n",
    "\n",
    "\n",
    "There is no closed form solution like the normal equation in linear regression, so we have to use stocastic gradient descent.  To do so we take the derivative of the loglikelihood and set it to zero to find the gradient of the loglikelihood, then update our coefficients. Just like linear regression, we use a learning rate when updating them.\n",
    "\n",
    "Math behind the gradient of log-likelihood is ESL section 4.4.1: https://web.stanford.edu/~hastie/ElemStatLearn//."
   ]
  },
  {
   "cell_type": "markdown",
   "metadata": {},
   "source": [
    "# Hyperparameter Tuning the C Variable"
   ]
  },
  {
   "cell_type": "markdown",
   "metadata": {},
   "source": [
    "We have discussed 'L1' (lasso)  and 'L2' (ridge) regularization.  If you looked at the docstring of Sklearn's Logistic Regression function, you may have noticed that we can specify different types of regularization when fitting the model via the `penalty` parameter.\n",
    "\n",
    "We can also specificy the strength of the regularization via the `C` parameter. `C` is the inverse regularization strength.  So, a low `C` means high regularization strength."
   ]
  },
  {
   "cell_type": "code",
   "execution_count": 67,
   "metadata": {},
   "outputs": [],
   "source": [
    "from sklearn.linear_model import LogisticRegression\n",
    "\n",
    "# Ridge regularization with low strength\n",
    "logr = LogisticRegression(penalty='l2', C=10**8)\n"
   ]
  },
  {
   "cell_type": "code",
   "execution_count": 149,
   "metadata": {},
   "outputs": [
    {
     "data": {
      "text/html": [
       "<div>\n",
       "<style scoped>\n",
       "    .dataframe tbody tr th:only-of-type {\n",
       "        vertical-align: middle;\n",
       "    }\n",
       "\n",
       "    .dataframe tbody tr th {\n",
       "        vertical-align: top;\n",
       "    }\n",
       "\n",
       "    .dataframe thead th {\n",
       "        text-align: right;\n",
       "    }\n",
       "</style>\n",
       "<table border=\"1\" class=\"dataframe\">\n",
       "  <thead>\n",
       "    <tr style=\"text-align: right;\">\n",
       "      <th></th>\n",
       "      <th>Pregnancies</th>\n",
       "      <th>Glucose</th>\n",
       "      <th>BloodPressure</th>\n",
       "      <th>SkinThickness</th>\n",
       "      <th>Insulin</th>\n",
       "      <th>BMI</th>\n",
       "      <th>DiabetesPedigreeFunction</th>\n",
       "      <th>Age</th>\n",
       "      <th>Outcome</th>\n",
       "    </tr>\n",
       "  </thead>\n",
       "  <tbody>\n",
       "    <tr>\n",
       "      <th>0</th>\n",
       "      <td>6</td>\n",
       "      <td>148</td>\n",
       "      <td>72</td>\n",
       "      <td>35</td>\n",
       "      <td>0</td>\n",
       "      <td>33.6</td>\n",
       "      <td>0.627</td>\n",
       "      <td>50</td>\n",
       "      <td>1</td>\n",
       "    </tr>\n",
       "    <tr>\n",
       "      <th>1</th>\n",
       "      <td>1</td>\n",
       "      <td>85</td>\n",
       "      <td>66</td>\n",
       "      <td>29</td>\n",
       "      <td>0</td>\n",
       "      <td>26.6</td>\n",
       "      <td>0.351</td>\n",
       "      <td>31</td>\n",
       "      <td>0</td>\n",
       "    </tr>\n",
       "    <tr>\n",
       "      <th>2</th>\n",
       "      <td>8</td>\n",
       "      <td>183</td>\n",
       "      <td>64</td>\n",
       "      <td>0</td>\n",
       "      <td>0</td>\n",
       "      <td>23.3</td>\n",
       "      <td>0.672</td>\n",
       "      <td>32</td>\n",
       "      <td>1</td>\n",
       "    </tr>\n",
       "    <tr>\n",
       "      <th>3</th>\n",
       "      <td>1</td>\n",
       "      <td>89</td>\n",
       "      <td>66</td>\n",
       "      <td>23</td>\n",
       "      <td>94</td>\n",
       "      <td>28.1</td>\n",
       "      <td>0.167</td>\n",
       "      <td>21</td>\n",
       "      <td>0</td>\n",
       "    </tr>\n",
       "    <tr>\n",
       "      <th>4</th>\n",
       "      <td>0</td>\n",
       "      <td>137</td>\n",
       "      <td>40</td>\n",
       "      <td>35</td>\n",
       "      <td>168</td>\n",
       "      <td>43.1</td>\n",
       "      <td>2.288</td>\n",
       "      <td>33</td>\n",
       "      <td>1</td>\n",
       "    </tr>\n",
       "  </tbody>\n",
       "</table>\n",
       "</div>"
      ],
      "text/plain": [
       "   Pregnancies  Glucose  BloodPressure  SkinThickness  Insulin   BMI  \\\n",
       "0            6      148             72             35        0  33.6   \n",
       "1            1       85             66             29        0  26.6   \n",
       "2            8      183             64              0        0  23.3   \n",
       "3            1       89             66             23       94  28.1   \n",
       "4            0      137             40             35      168  43.1   \n",
       "\n",
       "   DiabetesPedigreeFunction  Age  Outcome  \n",
       "0                     0.627   50        1  \n",
       "1                     0.351   31        0  \n",
       "2                     0.672   32        1  \n",
       "3                     0.167   21        0  \n",
       "4                     2.288   33        1  "
      ]
     },
     "execution_count": 149,
     "metadata": {},
     "output_type": "execute_result"
    }
   ],
   "source": [
    "diabetes = pd.read_csv('data/diabetes.csv')\n",
    "diabetes.head()"
   ]
  },
  {
   "cell_type": "code",
   "execution_count": 151,
   "metadata": {},
   "outputs": [
    {
     "data": {
      "text/html": [
       "<div>\n",
       "<style scoped>\n",
       "    .dataframe tbody tr th:only-of-type {\n",
       "        vertical-align: middle;\n",
       "    }\n",
       "\n",
       "    .dataframe tbody tr th {\n",
       "        vertical-align: top;\n",
       "    }\n",
       "\n",
       "    .dataframe thead th {\n",
       "        text-align: right;\n",
       "    }\n",
       "</style>\n",
       "<table border=\"1\" class=\"dataframe\">\n",
       "  <thead>\n",
       "    <tr style=\"text-align: right;\">\n",
       "      <th></th>\n",
       "      <th>Pregnancies</th>\n",
       "      <th>Glucose</th>\n",
       "      <th>BloodPressure</th>\n",
       "      <th>SkinThickness</th>\n",
       "      <th>Insulin</th>\n",
       "      <th>BMI</th>\n",
       "      <th>DiabetesPedigreeFunction</th>\n",
       "      <th>Age</th>\n",
       "      <th>Outcome</th>\n",
       "    </tr>\n",
       "  </thead>\n",
       "  <tbody>\n",
       "    <tr>\n",
       "      <th>Pregnancies</th>\n",
       "      <td>1.000000</td>\n",
       "      <td>0.129459</td>\n",
       "      <td>0.141282</td>\n",
       "      <td>-0.081672</td>\n",
       "      <td>-0.073535</td>\n",
       "      <td>0.017683</td>\n",
       "      <td>-0.033523</td>\n",
       "      <td>0.544341</td>\n",
       "      <td>0.221898</td>\n",
       "    </tr>\n",
       "    <tr>\n",
       "      <th>Glucose</th>\n",
       "      <td>0.129459</td>\n",
       "      <td>1.000000</td>\n",
       "      <td>0.152590</td>\n",
       "      <td>0.057328</td>\n",
       "      <td>0.331357</td>\n",
       "      <td>0.221071</td>\n",
       "      <td>0.137337</td>\n",
       "      <td>0.263514</td>\n",
       "      <td>0.466581</td>\n",
       "    </tr>\n",
       "    <tr>\n",
       "      <th>BloodPressure</th>\n",
       "      <td>0.141282</td>\n",
       "      <td>0.152590</td>\n",
       "      <td>1.000000</td>\n",
       "      <td>0.207371</td>\n",
       "      <td>0.088933</td>\n",
       "      <td>0.281805</td>\n",
       "      <td>0.041265</td>\n",
       "      <td>0.239528</td>\n",
       "      <td>0.065068</td>\n",
       "    </tr>\n",
       "    <tr>\n",
       "      <th>SkinThickness</th>\n",
       "      <td>-0.081672</td>\n",
       "      <td>0.057328</td>\n",
       "      <td>0.207371</td>\n",
       "      <td>1.000000</td>\n",
       "      <td>0.436783</td>\n",
       "      <td>0.392573</td>\n",
       "      <td>0.183928</td>\n",
       "      <td>-0.113970</td>\n",
       "      <td>0.074752</td>\n",
       "    </tr>\n",
       "    <tr>\n",
       "      <th>Insulin</th>\n",
       "      <td>-0.073535</td>\n",
       "      <td>0.331357</td>\n",
       "      <td>0.088933</td>\n",
       "      <td>0.436783</td>\n",
       "      <td>1.000000</td>\n",
       "      <td>0.197859</td>\n",
       "      <td>0.185071</td>\n",
       "      <td>-0.042163</td>\n",
       "      <td>0.130548</td>\n",
       "    </tr>\n",
       "    <tr>\n",
       "      <th>BMI</th>\n",
       "      <td>0.017683</td>\n",
       "      <td>0.221071</td>\n",
       "      <td>0.281805</td>\n",
       "      <td>0.392573</td>\n",
       "      <td>0.197859</td>\n",
       "      <td>1.000000</td>\n",
       "      <td>0.140647</td>\n",
       "      <td>0.036242</td>\n",
       "      <td>0.292695</td>\n",
       "    </tr>\n",
       "    <tr>\n",
       "      <th>DiabetesPedigreeFunction</th>\n",
       "      <td>-0.033523</td>\n",
       "      <td>0.137337</td>\n",
       "      <td>0.041265</td>\n",
       "      <td>0.183928</td>\n",
       "      <td>0.185071</td>\n",
       "      <td>0.140647</td>\n",
       "      <td>1.000000</td>\n",
       "      <td>0.033561</td>\n",
       "      <td>0.173844</td>\n",
       "    </tr>\n",
       "    <tr>\n",
       "      <th>Age</th>\n",
       "      <td>0.544341</td>\n",
       "      <td>0.263514</td>\n",
       "      <td>0.239528</td>\n",
       "      <td>-0.113970</td>\n",
       "      <td>-0.042163</td>\n",
       "      <td>0.036242</td>\n",
       "      <td>0.033561</td>\n",
       "      <td>1.000000</td>\n",
       "      <td>0.238356</td>\n",
       "    </tr>\n",
       "    <tr>\n",
       "      <th>Outcome</th>\n",
       "      <td>0.221898</td>\n",
       "      <td>0.466581</td>\n",
       "      <td>0.065068</td>\n",
       "      <td>0.074752</td>\n",
       "      <td>0.130548</td>\n",
       "      <td>0.292695</td>\n",
       "      <td>0.173844</td>\n",
       "      <td>0.238356</td>\n",
       "      <td>1.000000</td>\n",
       "    </tr>\n",
       "  </tbody>\n",
       "</table>\n",
       "</div>"
      ],
      "text/plain": [
       "                          Pregnancies   Glucose  BloodPressure  SkinThickness  \\\n",
       "Pregnancies                  1.000000  0.129459       0.141282      -0.081672   \n",
       "Glucose                      0.129459  1.000000       0.152590       0.057328   \n",
       "BloodPressure                0.141282  0.152590       1.000000       0.207371   \n",
       "SkinThickness               -0.081672  0.057328       0.207371       1.000000   \n",
       "Insulin                     -0.073535  0.331357       0.088933       0.436783   \n",
       "BMI                          0.017683  0.221071       0.281805       0.392573   \n",
       "DiabetesPedigreeFunction    -0.033523  0.137337       0.041265       0.183928   \n",
       "Age                          0.544341  0.263514       0.239528      -0.113970   \n",
       "Outcome                      0.221898  0.466581       0.065068       0.074752   \n",
       "\n",
       "                           Insulin       BMI  DiabetesPedigreeFunction  \\\n",
       "Pregnancies              -0.073535  0.017683                 -0.033523   \n",
       "Glucose                   0.331357  0.221071                  0.137337   \n",
       "BloodPressure             0.088933  0.281805                  0.041265   \n",
       "SkinThickness             0.436783  0.392573                  0.183928   \n",
       "Insulin                   1.000000  0.197859                  0.185071   \n",
       "BMI                       0.197859  1.000000                  0.140647   \n",
       "DiabetesPedigreeFunction  0.185071  0.140647                  1.000000   \n",
       "Age                      -0.042163  0.036242                  0.033561   \n",
       "Outcome                   0.130548  0.292695                  0.173844   \n",
       "\n",
       "                               Age   Outcome  \n",
       "Pregnancies               0.544341  0.221898  \n",
       "Glucose                   0.263514  0.466581  \n",
       "BloodPressure             0.239528  0.065068  \n",
       "SkinThickness            -0.113970  0.074752  \n",
       "Insulin                  -0.042163  0.130548  \n",
       "BMI                       0.036242  0.292695  \n",
       "DiabetesPedigreeFunction  0.033561  0.173844  \n",
       "Age                       1.000000  0.238356  \n",
       "Outcome                   0.238356  1.000000  "
      ]
     },
     "execution_count": 151,
     "metadata": {},
     "output_type": "execute_result"
    }
   ],
   "source": [
    "diabetes.corr()"
   ]
  },
  {
   "cell_type": "code",
   "execution_count": 256,
   "metadata": {},
   "outputs": [
    {
     "name": "stdout",
     "output_type": "stream",
     "text": [
      "[[ 1.18217114e-01  3.50280937e-02 -1.35333258e-02  7.25847638e-04\n",
      "  -1.20213666e-03  9.05742512e-02  9.52539204e-01  1.60020353e-02]]\n",
      "[-8.42344453]\n",
      "0.7825520833333334\n"
     ]
    }
   ],
   "source": [
    "logr = LogisticRegression(penalty='l2', C=10**8)\n",
    "y = diabetes.Outcome\n",
    "X = diabetes.drop(\"Outcome\", axis=1)\n",
    "logr.fit(X, y)\n",
    "\n",
    "print(logr.coef_)\n",
    "print(logr.intercept_)\n",
    "print(logr.score(X,y))"
   ]
  },
  {
   "cell_type": "code",
   "execution_count": 318,
   "metadata": {},
   "outputs": [
    {
     "name": "stdout",
     "output_type": "stream",
     "text": [
      "0.1186 Pregnancies\n",
      "0.035 Glucose\n",
      "-0.0136 BloodPressure\n",
      "0.0007 SkinThickness\n",
      "-0.0012 Insulin\n",
      "0.0906 BMI\n",
      "0.9504 DiabetesPedigreeFunction\n",
      "0.016 Age\n",
      "[-8.42319193]\n",
      "0.7825520833333334\n"
     ]
    }
   ],
   "source": [
    "# Same result as 'none'\n",
    "logr = LogisticRegression(penalty='none', C=10**8)\n",
    "y = diabetes.Outcome\n",
    "X = diabetes.drop(\"Outcome\", axis=1)\n",
    "logr.fit(X, y)\n",
    "\n",
    "for coef, feature in zip(list(logr.coef_[0]), X.columns):\n",
    "    print(round(coef,4), feature)\n",
    "print(logr.intercept_)\n",
    "print(logr.score(X,y))"
   ]
  },
  {
   "cell_type": "code",
   "execution_count": 319,
   "metadata": {},
   "outputs": [
    {
     "name": "stdout",
     "output_type": "stream",
     "text": [
      "0.0134 Pregnancies\n",
      "0.0324 Glucose\n",
      "-0.0055 BloodPressure\n",
      "0.006 SkinThickness\n",
      "-0.0008 Insulin\n",
      "0.0313 BMI\n",
      "0.0012 DiabetesPedigreeFunction\n",
      "0.018 Age\n",
      "[-6.02705282]\n",
      "0.7643229166666666\n"
     ]
    }
   ],
   "source": [
    "# With a high L2 regularization, the coefficients shrink.\n",
    "logr = LogisticRegression(penalty='l2', C=.0001)\n",
    "y = diabetes.Outcome\n",
    "X = diabetes.drop(\"Outcome\", axis=1)\n",
    "logr.fit(X, y)\n",
    "\n",
    "for coef, feature in zip(list(logr.coef_[0]), X.columns):\n",
    "    print(round(coef,4), feature)\n",
    "print(logr.intercept_)\n",
    "print(logr.score(X,y))"
   ]
  },
  {
   "cell_type": "code",
   "execution_count": 320,
   "metadata": {},
   "outputs": [
    {
     "name": "stdout",
     "output_type": "stream",
     "text": [
      "0.0 Pregnancies\n",
      "0.0 Glucose\n",
      "0.0 BloodPressure\n",
      "0.0 SkinThickness\n",
      "0.0 Insulin\n",
      "0.0 BMI\n",
      "0.0 DiabetesPedigreeFunction\n",
      "0.0 Age\n",
      "[0.]\n",
      "0.6510416666666666\n"
     ]
    }
   ],
   "source": [
    "# try with a strongL1. They are all shrunk to zero!\n",
    "logr = LogisticRegression(penalty='l1', C=.0001, solver='liblinear')\n",
    "y = diabetes.Outcome\n",
    "X = diabetes.drop(\"Outcome\", axis=1)\n",
    "logr.fit(X, y)\n",
    "\n",
    "for coef, feature in zip(list(logr.coef_[0]), X.columns):\n",
    "    print(round(coef,4), feature)\n",
    "print(logr.intercept_)\n",
    "print(logr.score(X,y))"
   ]
  },
  {
   "cell_type": "markdown",
   "metadata": {},
   "source": [
    "How do we choose between them? We iterate over possible parameters and judge the success based on our metric of choice.  We will eventually move towards grid search, which will help us be more thorough with our tuning.  For now, we will work through how to tune our C parameter with an Ridge regularization.\n",
    "\n",
    "For now, let's judge on accuracy, which can be accessed via the `score()` method of a trained model.\n"
   ]
  },
  {
   "cell_type": "code",
   "execution_count": 321,
   "metadata": {},
   "outputs": [],
   "source": [
    "# The parameters for C can be anything above 0.  \n",
    "# Set up a list of possible values to try out.\n",
    "# Start with 1000 numbers above 0\n",
    "c_candidates = None\n"
   ]
  },
  {
   "cell_type": "code",
   "execution_count": 322,
   "metadata": {},
   "outputs": [
    {
     "data": {
      "text/plain": [
       "array([1.00e-04, 1.00e+00, 2.00e+00, ..., 9.98e+02, 9.99e+02, 1.00e+03])"
      ]
     },
     "execution_count": 322,
     "metadata": {},
     "output_type": "execute_result"
    }
   ],
   "source": [
    "#__SOLUTION__\n",
    "# The parameters for C can be anything above 0.  \n",
    "# Set up a list of possible values to try out.\n",
    "# Start with numbers above 0 up to 1000\n",
    "c_candidates = np.linspace(1,1000,1000)\n",
    "c_candidates = np.insert(c_candidates, 0, .0001)\n",
    "c_candidates"
   ]
  },
  {
   "cell_type": "code",
   "execution_count": 323,
   "metadata": {},
   "outputs": [],
   "source": [
    "# Split your data into training and test data with a random state of 42 \n",
    "# and a test size of .3\n",
    "from sklearn.model_selection import train_test_split\n",
    "\n",
    "# Your code here"
   ]
  },
  {
   "cell_type": "code",
   "execution_count": 324,
   "metadata": {},
   "outputs": [],
   "source": [
    "#__SOLUTION__\n",
    "# Split your data into training and test data with a random state of 42 \n",
    "# and a test size of .3\n",
    "X = diabetes.drop('Outcome', axis=1)\n",
    "y = diabetes.Outcome\n",
    "X_train, X_test, y_train, y_test = train_test_split(X, y, random_state=42, \n",
    "                                                    test_size=.3)"
   ]
  },
  {
   "cell_type": "code",
   "execution_count": 325,
   "metadata": {},
   "outputs": [
    {
     "name": "stdout",
     "output_type": "stream",
     "text": [
      "[[ 0.05846675  0.03573097 -0.010864   -0.00178508 -0.00099074  0.10821316\n",
      "   0.52958357  0.03573258]]\n",
      "[-9.43814156]\n",
      "0.7402597402597403\n"
     ]
    }
   ],
   "source": [
    "# Train the no regularization logistic model on the train set, \n",
    "# and return the accuracy as measured on the test\n",
    "\n",
    "logr = LogisticRegression(penalty='l2', C=10**8)\n",
    "y = diabetes.Outcome\n",
    "X = diabetes.drop(\"Outcome\", axis=1)\n",
    "logr.fit(X_train, y_train)\n",
    "\n",
    "print(logr.coef_)\n",
    "print(logr.intercept_)\n",
    "print(logr.score(X_test,y_test))"
   ]
  },
  {
   "cell_type": "code",
   "execution_count": 326,
   "metadata": {},
   "outputs": [
    {
     "ename": "ValueError",
     "evalue": "max() arg is an empty sequence",
     "output_type": "error",
     "traceback": [
      "\u001b[0;31m---------------------------------------------------------------------------\u001b[0m",
      "\u001b[0;31mValueError\u001b[0m                                Traceback (most recent call last)",
      "\u001b[0;32m<ipython-input-326-b7eebe9cade7>\u001b[0m in \u001b[0;36m<module>\u001b[0;34m\u001b[0m\n\u001b[1;32m      8\u001b[0m     \u001b[0;32mpass\u001b[0m\u001b[0;34m\u001b[0m\u001b[0;34m\u001b[0m\u001b[0m\n\u001b[1;32m      9\u001b[0m \u001b[0;34m\u001b[0m\u001b[0m\n\u001b[0;32m---> 10\u001b[0;31m \u001b[0mbest_c\u001b[0m \u001b[0;34m=\u001b[0m \u001b[0mmax\u001b[0m\u001b[0;34m(\u001b[0m\u001b[0mc_scores\u001b[0m\u001b[0;34m,\u001b[0m \u001b[0mkey\u001b[0m\u001b[0;34m=\u001b[0m\u001b[0mc_scores\u001b[0m\u001b[0;34m.\u001b[0m\u001b[0mget\u001b[0m\u001b[0;34m)\u001b[0m\u001b[0;34m\u001b[0m\u001b[0;34m\u001b[0m\u001b[0m\n\u001b[0m\u001b[1;32m     11\u001b[0m \u001b[0mbest_c\u001b[0m\u001b[0;34m\u001b[0m\u001b[0;34m\u001b[0m\u001b[0m\n\u001b[1;32m     12\u001b[0m \u001b[0;34m\u001b[0m\u001b[0m\n",
      "\u001b[0;31mValueError\u001b[0m: max() arg is an empty sequence"
     ]
    }
   ],
   "source": [
    "# Create a for loop which runs through all of the possible values of C,\n",
    "# fits the model on the train set, and scores the model on test set.\n",
    "# Add the accuracies into a dictionary or a list, whichever you prefer\n",
    "# Use 'l2'\n",
    "\n",
    "c_scores = {}\n",
    "for c in c_candidates:\n",
    "    pass\n",
    "\n",
    "best_c = max(c_scores, key=c_scores.get)\n",
    "best_c\n",
    "    "
   ]
  },
  {
   "cell_type": "code",
   "execution_count": null,
   "metadata": {},
   "outputs": [],
   "source": [
    "#__SOLUTION__\n",
    "# Create a for loop which runs through all of the possible values of C,\n",
    "# fits the model on the train set, and scores the model on test set.\n",
    "# Add the accuracies into a dictionary or a list, whichever you prefer\n",
    "# Use 'l2'\n",
    "\n",
    "c_scores = {}\n",
    "for c in c_candidates:\n",
    "    regr = LogisticRegression(penalty='l2', C=c)\n",
    "    regr.fit(X_train, y_train)\n",
    "    accuracy = regr.score(X_test, y_test)\n",
    "    c_scores[c] = accuracy\n",
    "    \n",
    "# the best accuracy score comes with the highest regularization\n",
    "best_c = max(c_scores, key=c_scores.get)\n",
    "best_c\n",
    "    "
   ]
  },
  {
   "cell_type": "code",
   "execution_count": null,
   "metadata": {},
   "outputs": [],
   "source": [
    "# Once you have the best C for the range of values between 0 and 1000,\n",
    "# narrow in even further.  Choose a new range of 100 C-values between your best C\n",
    "# and the next closer integer.\n",
    "import math\n",
    "c_candidates = np.linspace(math.floor(best_c)+.01,math.floor(best_c)+1, 100)"
   ]
  },
  {
   "cell_type": "code",
   "execution_count": null,
   "metadata": {},
   "outputs": [],
   "source": [
    "#__SOLUTION__\n",
    "c_scores = {}\n",
    "for c in c_candidates:\n",
    "    regr = LogisticRegression(penalty='l2', C=c)\n",
    "    regr.fit(X_train, y_train)\n",
    "    accuracy = regr.score(X_test, y_test)\n",
    "    c_scores[c] = accuracy\n",
    "    \n",
    "# the best accuracy score comes with the highest regularization\n",
    "best_c = max(c_scores, key=c_scores.get)\n",
    "print(best_c, c_scores[best_c])"
   ]
  },
  {
   "cell_type": "markdown",
   "metadata": {},
   "source": [
    "We improved our test R^2 from .740 to .745. Not too much gain. \n",
    "Sometimes hyperparameter tuning can have a large effect, sometimes not. \n",
    "Don't rely on hyperparameter tuning to fix your model.  \n",
    "Treat it as a necessary step in the process which if you are lucky, may increase the predictive power of your model.\n",
    "\n",
    "In future lessons, we will use Grid Search to automate our hyperparamater tuning, and make it more thorough.\n"
   ]
  },
  {
   "cell_type": "markdown",
   "metadata": {},
   "source": [
    "## Threshold"
   ]
  },
  {
   "cell_type": "markdown",
   "metadata": {},
   "source": [
    "Because logistic regression calculates the probability of a given class, we can easily change the threshold of what is categorized as a 1 or a 0.   "
   ]
  },
  {
   "cell_type": "markdown",
   "metadata": {},
   "source": [
    "Let's use our best c from above, and use predict_proba() to output probabilities."
   ]
  },
  {
   "cell_type": "code",
   "execution_count": null,
   "metadata": {},
   "outputs": [],
   "source": [
    "regr = LogisticRegression(penalty='l2', C=c)\n",
    "regr.fit(X_train, y_train)\n",
    "probas = regr.predict_proba(X_test)\n",
    "probas"
   ]
  },
  {
   "cell_type": "code",
   "execution_count": null,
   "metadata": {},
   "outputs": [],
   "source": [
    "y_hat = regr.predict(X_test)\n",
    "y_hat"
   ]
  },
  {
   "cell_type": "markdown",
   "metadata": {},
   "source": [
    "Compare the output of predict and predict proba. Write out below how the output of predict_proba is related to the predict output.  "
   ]
  },
  {
   "cell_type": "code",
   "execution_count": null,
   "metadata": {},
   "outputs": [],
   "source": [
    "#__SOLUTION__\n",
    "\"\"\"The default threshold is .5. Any value in the predict_proba first column above .5 is categorized as a 0. \n",
    "Any value above .5 in the second column is categorized as 1.\"\"\""
   ]
  },
  {
   "cell_type": "markdown",
   "metadata": {},
   "source": [
    "Now, isolate one of the columns of predict_proba, and create an area of booleans which returns True if the proba is above .4"
   ]
  },
  {
   "cell_type": "code",
   "execution_count": null,
   "metadata": {},
   "outputs": [],
   "source": [
    "# Your code here\n",
    "lower_threshold = None"
   ]
  },
  {
   "cell_type": "markdown",
   "metadata": {},
   "source": [
    "Then, use the astype method to convert the array to integers: True will become 1, and False will become 0"
   ]
  },
  {
   "cell_type": "code",
   "execution_count": null,
   "metadata": {},
   "outputs": [],
   "source": [
    "# Your code here\n",
    "\n",
    "predictions = None"
   ]
  },
  {
   "cell_type": "markdown",
   "metadata": {},
   "source": [
    "While the accuracy of the model will fall by increasing the threshold, we are protecting against a certain type of error. What type of error are we reducing? Of the metrics that we have learned, what score will increase? Why might protecting against such errors be smart in a model that deals with a life-threatening medical condition?\n"
   ]
  },
  {
   "cell_type": "code",
   "execution_count": null,
   "metadata": {},
   "outputs": [],
   "source": [
    "# Your answer here"
   ]
  },
  {
   "cell_type": "code",
   "execution_count": null,
   "metadata": {},
   "outputs": [],
   "source": [
    "from sklearn.metrics import accuracy_score, recall_score, precision_score\n",
    "# check that logic in code."
   ]
  },
  {
   "cell_type": "code",
   "execution_count": null,
   "metadata": {},
   "outputs": [],
   "source": [
    "#__SOLUTION__\n",
    "higher_threshold = probas[:,1] > .7\n",
    "y_hat_lower = higher_threshold.astype(int)\n",
    "\n",
    "\"\"\"By increasing the threshold, we are protecting against false negatives. Our recall score will increase. \n",
    "In the case of heart disease, we should err on the side of caution.  We would rather have a false positive \n",
    "mistake, since the individual would still be flagged for intervention. A false negative could result in death\"\"\"\n",
    "\n",
    "print(f\"Recall score with default .5 threshold: {recall_score(y_hat, y_test)}\")\n",
    "print(f\"Recall score with default .4 threshold: {recall_score(y_hat_lower, y_test)}\")"
   ]
  },
  {
   "cell_type": "code",
   "execution_count": null,
   "metadata": {},
   "outputs": [],
   "source": []
  }
 ],
 "metadata": {
  "kernelspec": {
   "display_name": "Python 3",
   "language": "python",
   "name": "python3"
  },
  "language_info": {
   "codemirror_mode": {
    "name": "ipython",
    "version": 3
   },
   "file_extension": ".py",
   "mimetype": "text/x-python",
   "name": "python",
   "nbconvert_exporter": "python",
   "pygments_lexer": "ipython3",
   "version": "3.7.3"
  }
 },
 "nbformat": 4,
 "nbformat_minor": 4
}
